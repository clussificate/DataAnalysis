{
 "cells": [
  {
   "cell_type": "code",
   "execution_count": 1,
   "metadata": {},
   "outputs": [],
   "source": [
    "import numpy as np\n",
    "import pandas as pd\n",
    "import matplotlib.pyplot as plt\n",
    "%matplotlib inline\n",
    "\n",
    "\n",
    "from scipy.optimize import curve_fit  \n",
    "import matplotlib.pyplot as plt  \n",
    "import numpy as np  \n",
    "import seaborn as sns\n",
    "from scipy import stats"
   ]
  },
  {
   "cell_type": "code",
   "execution_count": 12,
   "metadata": {},
   "outputs": [],
   "source": [
    "ccgt = pd.read_csv(\"C:/Users/zhangkun6/Desktop/品类+目的地频数/ccgt.csv\",sep='\\t',engine='python',encoding='utf8')\n",
    "cczj = pd.read_csv(\"C:/Users/zhangkun6/Desktop/品类+目的地频数/cczj.csv\",sep='\\t',engine='python',encoding='utf8')\n",
    "cczz = pd.read_csv(\"C:/Users/zhangkun6/Desktop/品类+目的地频数/cczz.csv\",sep='\\t',engine='python',encoding='utf8')\n",
    "\n",
    "cdgt = pd.read_csv(\"C:/Users/zhangkun6/Desktop/品类+目的地频数/cdgt.csv\",sep='\\t',engine='python',encoding='utf8')\n",
    "cdzj = pd.read_csv(\"C:/Users/zhangkun6/Desktop/品类+目的地频数/cdzj.csv\",sep='\\t',engine='python',encoding='utf8')\n",
    "cdzz = pd.read_csv(\"C:/Users/zhangkun6/Desktop/品类+目的地频数/cdzz.csv\",sep='\\t',engine='python',encoding='utf8')\n",
    "\n",
    "gcgt = pd.read_csv(\"C:/Users/zhangkun6/Desktop/品类+目的地频数/gcgt.csv\",sep='\\t',engine='python',encoding='utf8')\n",
    "gczj = pd.read_csv(\"C:/Users/zhangkun6/Desktop/品类+目的地频数/gczj.csv\",sep='\\t',engine='python',encoding='utf8')\n",
    "gczz = pd.read_csv(\"C:/Users/zhangkun6/Desktop/品类+目的地频数/gczz.csv\",sep='\\t',engine='python',encoding='utf8')\n",
    "\n",
    "\n",
    "zbgt = pd.read_csv(\"C:/Users/zhangkun6/Desktop/品类+目的地频数/zbgt.csv\",sep='\\t',engine='python',encoding='utf8')\n",
    "zbzj = pd.read_csv(\"C:/Users/zhangkun6/Desktop/品类+目的地频数/zbzj.csv\",sep='\\t',engine='python',encoding='utf8')\n",
    "zbzz = pd.read_csv(\"C:/Users/zhangkun6/Desktop/品类+目的地频数/zbzz.csv\",sep='\\t',engine='python',encoding='utf8')\n",
    "\n",
    "\n",
    "jipiao = pd.read_csv(\"C:/Users/zhangkun6/Desktop/品类+目的地频数/jipiao.csv\",sep='\\t',engine='python',encoding='utf8')\n",
    "jiudian = pd.read_csv(\"C:/Users/zhangkun6/Desktop/品类+目的地频数/jiudian.csv\",sep='\\t',engine='python',encoding='utf8')"
   ]
  },
  {
   "cell_type": "code",
   "execution_count": 20,
   "metadata": {},
   "outputs": [
    {
     "data": {
      "text/plain": [
       "47.0"
      ]
     },
     "execution_count": 20,
     "metadata": {},
     "output_type": "execute_result"
    }
   ],
   "source": [
    "ccgt.ts.quantile(0.95)"
   ]
  },
  {
   "cell_type": "markdown",
   "metadata": {},
   "source": [
    "## 出长"
   ]
  },
  {
   "cell_type": "code",
   "execution_count": 47,
   "metadata": {},
   "outputs": [
    {
     "data": {
      "text/plain": [
       "Text(0.5,1,'chuchanggentuan')"
      ]
     },
     "execution_count": 47,
     "metadata": {},
     "output_type": "execute_result"
    },
    {
     "data": {
      "image/png": "[encoded data removed]",
      "text/plain": [
       "<matplotlib.figure.Figure at 0xf460e80>"
      ]
     },
     "metadata": {},
     "output_type": "display_data"
    }
   ],
   "source": [
    "plt.hist(ccgt.loc[ccgt.ts<=50,'ts'],bins=50,normed=True)\n",
    "plt.title(\"chuchanggentuan\")"
   ]
  },
  {
   "cell_type": "code",
   "execution_count": 28,
   "metadata": {},
   "outputs": [
    {
     "data": {
      "text/plain": [
       "Text(0.5,1,'chuchangzijia')"
      ]
     },
     "execution_count": 28,
     "metadata": {},
     "output_type": "execute_result"
    },
    {
     "data": {
      "image/png": "[encoded data removed]",
      "text/plain": [
       "<matplotlib.figure.Figure at 0xe89d9b0>"
      ]
     },
     "metadata": {},
     "output_type": "display_data"
    }
   ],
   "source": [
    "plt.hist(cczj.loc[cczj.ts<=50,'ts'],bins=50,normed=True)\n",
    "plt.title(\"chuchangzijia\")"
   ]
  },
  {
   "cell_type": "code",
   "execution_count": 65,
   "metadata": {},
   "outputs": [
    {
     "data": {
      "text/plain": [
       "Int64Index([   1,    2,    3,    4,    5,    6,    7,    8,    9,   10,   13,\n",
       "              11,   12,   14,   17,   18,   16,   15,   21,   36,   22,   19,\n",
       "              20,   33,   28,   24,   35,   56,   23,   25,   52,   53,   31,\n",
       "              30,   40,   32,   96,   48,   44,  300,   64, 2438,   29,   37,\n",
       "              41,  107,   49,   65,   26,   42],\n",
       "           dtype='int64')"
      ]
     },
     "execution_count": 65,
     "metadata": {},
     "output_type": "execute_result"
    }
   ],
   "source": [
    "# cczj.ts.value_counts().index[0:50]"
   ]
  },
  {
   "cell_type": "code",
   "execution_count": 73,
   "metadata": {},
   "outputs": [],
   "source": [
    "# width = 0.5\n",
    "# plt.bar(np.arange(0,20),cczj.ts.value_counts().tolist()[0:20])\n",
    "# plt.xticks(np.arange(0,20)+width/2, cczj.ts.value_counts().index[0:20], rotation=40)"
   ]
  },
  {
   "cell_type": "code",
   "execution_count": 29,
   "metadata": {},
   "outputs": [
    {
     "data": {
      "text/plain": [
       "Text(0.5,1,'chuchangzizhu')"
      ]
     },
     "execution_count": 29,
     "metadata": {},
     "output_type": "execute_result"
    },
    {
     "data": {
      "image/png": "[encoded data removed]",
      "text/plain": [
       "<matplotlib.figure.Figure at 0xe7e6fd0>"
      ]
     },
     "metadata": {},
     "output_type": "display_data"
    }
   ],
   "source": [
    "plt.hist(cczz.loc[cczz.ts<=50,'ts'],bins=50,normed=True)\n",
    "plt.title(\"chuchangzizhu\")"
   ]
  },
  {
   "cell_type": "code",
   "execution_count": 53,
   "metadata": {},
   "outputs": [
    {
     "name": "stdout",
     "output_type": "stream",
     "text": [
      "24.0\n",
      "4.0\n",
      "11.0\n"
     ]
    }
   ],
   "source": [
    "print(ccgt.ts.quantile(0.9))\n",
    "print(cczj.ts.quantile(0.9))\n",
    "print(cczz.ts.quantile(0.9))\n"
   ]
  },
  {
   "cell_type": "markdown",
   "metadata": {},
   "source": [
    "## 出短"
   ]
  },
  {
   "cell_type": "code",
   "execution_count": 30,
   "metadata": {},
   "outputs": [
    {
     "data": {
      "text/plain": [
       "Text(0.5,1,'chuduangentuan')"
      ]
     },
     "execution_count": 30,
     "metadata": {},
     "output_type": "execute_result"
    },
    {
     "data": {
      "image/png": "[encoded data removed]",
      "text/plain": [
       "<matplotlib.figure.Figure at 0xe8070b8>"
      ]
     },
     "metadata": {},
     "output_type": "display_data"
    }
   ],
   "source": [
    "plt.hist(cdgt.loc[cdgt.ts<=50,'ts'],bins=50,normed=True)\n",
    "plt.title(\"chuduangentuan\")"
   ]
  },
  {
   "cell_type": "code",
   "execution_count": 35,
   "metadata": {},
   "outputs": [
    {
     "data": {
      "text/plain": [
       "Text(0.5,1,'chuduanzijia')"
      ]
     },
     "execution_count": 35,
     "metadata": {},
     "output_type": "execute_result"
    },
    {
     "data": {
      "image/png": "[encoded data removed]",
      "text/plain": [
       "<matplotlib.figure.Figure at 0x1d3ea898>"
      ]
     },
     "metadata": {},
     "output_type": "display_data"
    }
   ],
   "source": [
    "plt.hist(cdzj.loc[cdzj.ts<=50,'ts'],bins=12,normed=True)\n",
    "plt.title(\"chuduanzijia\")"
   ]
  },
  {
   "cell_type": "code",
   "execution_count": 36,
   "metadata": {},
   "outputs": [
    {
     "data": {
      "text/plain": [
       "1      639\n",
       "2       71\n",
       "3       17\n",
       "4        9\n",
       "6        4\n",
       "5        4\n",
       "8        3\n",
       "380      1\n",
       "28       1\n",
       "19       1\n",
       "14       1\n",
       "9        1\n",
       "Name: ts, dtype: int64"
      ]
     },
     "execution_count": 36,
     "metadata": {},
     "output_type": "execute_result"
    }
   ],
   "source": [
    "cdzj.ts.value_counts()"
   ]
  },
  {
   "cell_type": "code",
   "execution_count": 38,
   "metadata": {},
   "outputs": [
    {
     "data": {
      "text/plain": [
       "Text(0.5,1,'chuduanzizhu')"
      ]
     },
     "execution_count": 38,
     "metadata": {},
     "output_type": "execute_result"
    },
    {
     "data": {
      "image/png": "[encoded data removed]",
      "text/plain": [
       "<matplotlib.figure.Figure at 0x1d3eab38>"
      ]
     },
     "metadata": {},
     "output_type": "display_data"
    }
   ],
   "source": [
    "plt.hist(cdzz.loc[cdzz.ts<=50,'ts'],bins=12,normed=True)\n",
    "plt.title(\"chuduanzizhu\")"
   ]
  },
  {
   "cell_type": "code",
   "execution_count": 54,
   "metadata": {},
   "outputs": [
    {
     "name": "stdout",
     "output_type": "stream",
     "text": [
      "23.0\n",
      "2.0\n",
      "19.0\n"
     ]
    }
   ],
   "source": [
    "print(cdgt.ts.quantile(0.9))\n",
    "print(cdzj.ts.quantile(0.9))\n",
    "print(cdzz.ts.quantile(0.9))"
   ]
  },
  {
   "cell_type": "markdown",
   "metadata": {},
   "source": [
    "## 国长"
   ]
  },
  {
   "cell_type": "code",
   "execution_count": 40,
   "metadata": {},
   "outputs": [
    {
     "data": {
      "text/plain": [
       "Text(0.5,1,'guochanggentuan')"
      ]
     },
     "execution_count": 40,
     "metadata": {},
     "output_type": "execute_result"
    },
    {
     "data": {
      "image/png": "[encoded data removed]",
      "text/plain": [
       "<matplotlib.figure.Figure at 0xef4b9b0>"
      ]
     },
     "metadata": {},
     "output_type": "display_data"
    }
   ],
   "source": [
    "plt.hist(gcgt.loc[gcgt.ts<=50,'ts'],bins=50,normed=True)\n",
    "plt.title(\"guochanggentuan\")"
   ]
  },
  {
   "cell_type": "code",
   "execution_count": 42,
   "metadata": {},
   "outputs": [
    {
     "data": {
      "text/plain": [
       "Text(0.5,1,'guochangzijia')"
      ]
     },
     "execution_count": 42,
     "metadata": {},
     "output_type": "execute_result"
    },
    {
     "data": {
      "image/png": "[encoded data removed]",
      "text/plain": [
       "<matplotlib.figure.Figure at 0xf0c58d0>"
      ]
     },
     "metadata": {},
     "output_type": "display_data"
    }
   ],
   "source": [
    "plt.hist(gczj.loc[gczj.ts<=50,'ts'],bins=50,normed=True)\n",
    "plt.title(\"guochangzijia\")"
   ]
  },
  {
   "cell_type": "code",
   "execution_count": 43,
   "metadata": {},
   "outputs": [
    {
     "data": {
      "text/plain": [
       "Text(0.5,1,'guochangzizhu')"
      ]
     },
     "execution_count": 43,
     "metadata": {},
     "output_type": "execute_result"
    },
    {
     "data": {
      "image/png": "[encoded data removed]",
      "text/plain": [
       "<matplotlib.figure.Figure at 0xf0e09b0>"
      ]
     },
     "metadata": {},
     "output_type": "display_data"
    }
   ],
   "source": [
    "plt.hist(gczz.loc[gczz.ts<=50,'ts'],bins=50,normed=True)\n",
    "plt.title(\"guochangzizhu\")"
   ]
  },
  {
   "cell_type": "code",
   "execution_count": 55,
   "metadata": {},
   "outputs": [
    {
     "name": "stdout",
     "output_type": "stream",
     "text": [
      "31.0\n",
      "4.0\n",
      "16.0\n"
     ]
    }
   ],
   "source": [
    "print(gcgt.ts.quantile(0.9))\n",
    "print(gczj.ts.quantile(0.9))\n",
    "print(gczz.ts.quantile(0.9))"
   ]
  },
  {
   "cell_type": "markdown",
   "metadata": {},
   "source": [
    "## 周边"
   ]
  },
  {
   "cell_type": "code",
   "execution_count": 44,
   "metadata": {},
   "outputs": [
    {
     "data": {
      "text/plain": [
       "Text(0.5,1,'zhoubiangentuan')"
      ]
     },
     "execution_count": 44,
     "metadata": {},
     "output_type": "execute_result"
    },
    {
     "data": {
      "image/png": "[encoded data removed]",
      "text/plain": [
       "<matplotlib.figure.Figure at 0xf22b470>"
      ]
     },
     "metadata": {},
     "output_type": "display_data"
    }
   ],
   "source": [
    "plt.hist(zbgt.loc[zbgt.ts<=50,'ts'],bins=50,normed=True)\n",
    "plt.title(\"zhoubiangentuan\")"
   ]
  },
  {
   "cell_type": "code",
   "execution_count": 45,
   "metadata": {},
   "outputs": [
    {
     "data": {
      "text/plain": [
       "Text(0.5,1,'zhoubianzijia')"
      ]
     },
     "execution_count": 45,
     "metadata": {},
     "output_type": "execute_result"
    },
    {
     "data": {
      "image/png": "[encoded data removed]",
      "text/plain": [
       "<matplotlib.figure.Figure at 0xf2e52e8>"
      ]
     },
     "metadata": {},
     "output_type": "display_data"
    }
   ],
   "source": [
    "plt.hist(zbzj.loc[zbzj.ts<=50,'ts'],bins=50,normed=True)\n",
    "plt.title(\"zhoubianzijia\")"
   ]
  },
  {
   "cell_type": "code",
   "execution_count": 46,
   "metadata": {},
   "outputs": [
    {
     "data": {
      "text/plain": [
       "Text(0.5,1,'zhoubianzizhu')"
      ]
     },
     "execution_count": 46,
     "metadata": {},
     "output_type": "execute_result"
    },
    {
     "data": {
      "image/png": "[encoded data removed]",
      "text/plain": [
       "<matplotlib.figure.Figure at 0xf2ee3c8>"
      ]
     },
     "metadata": {},
     "output_type": "display_data"
    }
   ],
   "source": [
    "plt.hist(zbzz.loc[zbzz.ts<=50,'ts'],bins=50,normed=True)\n",
    "plt.title(\"zhoubianzizhu\")"
   ]
  },
  {
   "cell_type": "code",
   "execution_count": 56,
   "metadata": {},
   "outputs": [
    {
     "name": "stdout",
     "output_type": "stream",
     "text": [
      "23.0\n",
      "16.0\n",
      "8.0\n"
     ]
    }
   ],
   "source": [
    "print(zbgt.ts.quantile(0.9))\n",
    "print(zbzj.ts.quantile(0.9))\n",
    "print(zbzz.ts.quantile(0.9))"
   ]
  },
  {
   "cell_type": "markdown",
   "metadata": {},
   "source": [
    "##  机票酒店"
   ]
  },
  {
   "cell_type": "code",
   "execution_count": 48,
   "metadata": {},
   "outputs": [
    {
     "data": {
      "text/plain": [
       "Text(0.5,1,'jipiao')"
      ]
     },
     "execution_count": 48,
     "metadata": {},
     "output_type": "execute_result"
    },
    {
     "data": {
      "image/png": "[encoded data removed]",
      "text/plain": [
       "<matplotlib.figure.Figure at 0xea3a978>"
      ]
     },
     "metadata": {},
     "output_type": "display_data"
    }
   ],
   "source": [
    "plt.hist(jipiao.loc[jipiao.ts<=50,'ts'],bins=50,normed=True)\n",
    "plt.title(\"jipiao\")"
   ]
  },
  {
   "cell_type": "code",
   "execution_count": 49,
   "metadata": {},
   "outputs": [
    {
     "data": {
      "text/plain": [
       "Text(0.5,1,'jiudian')"
      ]
     },
     "execution_count": 49,
     "metadata": {},
     "output_type": "execute_result"
    },
    {
     "data": {
      "image/png": "[encoded data removed]",
      "text/plain": [
       "<matplotlib.figure.Figure at 0xf2ca2e8>"
      ]
     },
     "metadata": {},
     "output_type": "display_data"
    }
   ],
   "source": [
    "plt.hist(jiudian.loc[jiudian.ts<=50,'ts'],bins=50,normed=True)\n",
    "plt.title(\"jiudian\")"
   ]
  },
  {
   "cell_type": "code",
   "execution_count": 57,
   "metadata": {},
   "outputs": [
    {
     "name": "stdout",
     "output_type": "stream",
     "text": [
      "21.0\n",
      "31.0\n"
     ]
    }
   ],
   "source": [
    "print(jipiao.ts.quantile(0.9))\n",
    "print(jiudian.ts.quantile(0.9))"
   ]
  },
  {
   "cell_type": "code",
   "execution_count": null,
   "metadata": {},
   "outputs": [],
   "source": []
  }
 ],
 "metadata": {
  "kernelspec": {
   "display_name": "Python 3",
   "language": "python",
   "name": "python3"
  },
  "language_info": {
   "codemirror_mode": {
    "name": "ipython",
    "version": 3
   },
   "file_extension": ".py",
   "mimetype": "text/x-python",
   "name": "python",
   "nbconvert_exporter": "python",
   "pygments_lexer": "ipython3",
   "version": "3.6.4"
  }
 },
 "nbformat": 4,
 "nbformat_minor": 2
}
