{
 "cells": [
  {
   "cell_type": "code",
   "execution_count": 4,
   "metadata": {},
   "outputs": [],
   "source": [
    "import numpy as np\n",
    "import pandas as pd\n",
    "import matplotlib.pyplot as plt\n",
    "%matplotlib inline\n",
    "import os\n",
    "from scipy.optimize import curve_fit"
   ]
  },
  {
   "cell_type": "code",
   "execution_count": 2,
   "metadata": {},
   "outputs": [],
   "source": [
    "# quantile/ percentile\n",
    "a = 0.95"
   ]
  },
  {
   "cell_type": "code",
   "execution_count": 3,
   "metadata": {},
   "outputs": [],
   "source": [
    "data = pd.read_csv('data/vt_oredrtraf.csv',sep='\\t')"
   ]
  },
  {
   "cell_type": "code",
   "execution_count": 46,
   "metadata": {},
   "outputs": [
    {
     "data": {
      "text/html": [
       "<div>\n",
       "<style scoped>\n",
       "    .dataframe tbody tr th:only-of-type {\n",
       "        vertical-align: middle;\n",
       "    }\n",
       "\n",
       "    .dataframe tbody tr th {\n",
       "        vertical-align: top;\n",
       "    }\n",
       "\n",
       "    .dataframe thead th {\n",
       "        text-align: right;\n",
       "    }\n",
       "</style>\n",
       "<table border=\"1\" class=\"dataframe\">\n",
       "  <thead>\n",
       "    <tr style=\"text-align: right;\">\n",
       "      <th></th>\n",
       "      <th>user_id</th>\n",
       "      <th>product_id</th>\n",
       "      <th>create_time</th>\n",
       "      <th>create_time_next</th>\n",
       "      <th>ordertype</th>\n",
       "      <th>ts</th>\n",
       "      <th>freq</th>\n",
       "      <th>route_name</th>\n",
       "      <th>product_line_type_name</th>\n",
       "      <th>route_class_parent_name</th>\n",
       "    </tr>\n",
       "  </thead>\n",
       "  <tbody>\n",
       "    <tr>\n",
       "      <th>0</th>\n",
       "      <td>75141256</td>\n",
       "      <td>5037388</td>\n",
       "      <td>2018-03-29 13:25:58</td>\n",
       "      <td>2018-03-29 13:25:58</td>\n",
       "      <td>1</td>\n",
       "      <td>1</td>\n",
       "      <td>1</td>\n",
       "      <td>中航快捷酒店(北京东四店)</td>\n",
       "      <td>境内</td>\n",
       "      <td>酒店</td>\n",
       "    </tr>\n",
       "    <tr>\n",
       "      <th>1</th>\n",
       "      <td>63064290</td>\n",
       "      <td>5037808</td>\n",
       "      <td>2018-04-02 10:34:41</td>\n",
       "      <td>2018-04-03 12:31:54</td>\n",
       "      <td>2</td>\n",
       "      <td>1</td>\n",
       "      <td>1</td>\n",
       "      <td>斯洛主题酒店(北京南站店)</td>\n",
       "      <td>境内</td>\n",
       "      <td>酒店</td>\n",
       "    </tr>\n",
       "    <tr>\n",
       "      <th>2</th>\n",
       "      <td>58070548</td>\n",
       "      <td>5037808</td>\n",
       "      <td>2018-04-02 15:29:45</td>\n",
       "      <td>2018-04-06 07:47:28</td>\n",
       "      <td>1</td>\n",
       "      <td>1</td>\n",
       "      <td>8</td>\n",
       "      <td>斯洛主题酒店(北京南站店)</td>\n",
       "      <td>境内</td>\n",
       "      <td>酒店</td>\n",
       "    </tr>\n",
       "    <tr>\n",
       "      <th>3</th>\n",
       "      <td>63064290</td>\n",
       "      <td>5037808</td>\n",
       "      <td>2018-04-02 10:34:41</td>\n",
       "      <td>2018-04-03 12:31:54</td>\n",
       "      <td>1</td>\n",
       "      <td>1</td>\n",
       "      <td>2</td>\n",
       "      <td>斯洛主题酒店(北京南站店)</td>\n",
       "      <td>境内</td>\n",
       "      <td>酒店</td>\n",
       "    </tr>\n",
       "    <tr>\n",
       "      <th>4</th>\n",
       "      <td>51243576</td>\n",
       "      <td>5037808</td>\n",
       "      <td>2018-04-04 07:58:35</td>\n",
       "      <td>2018-04-04 09:50:36</td>\n",
       "      <td>1</td>\n",
       "      <td>1</td>\n",
       "      <td>2</td>\n",
       "      <td>斯洛主题酒店(北京南站店)</td>\n",
       "      <td>境内</td>\n",
       "      <td>酒店</td>\n",
       "    </tr>\n",
       "  </tbody>\n",
       "</table>\n",
       "</div>"
      ],
      "text/plain": [
       "    user_id  product_id          create_time     create_time_next  ordertype  \\\n",
       "0  75141256     5037388  2018-03-29 13:25:58  2018-03-29 13:25:58          1   \n",
       "1  63064290     5037808  2018-04-02 10:34:41  2018-04-03 12:31:54          2   \n",
       "2  58070548     5037808  2018-04-02 15:29:45  2018-04-06 07:47:28          1   \n",
       "3  63064290     5037808  2018-04-02 10:34:41  2018-04-03 12:31:54          1   \n",
       "4  51243576     5037808  2018-04-04 07:58:35  2018-04-04 09:50:36          1   \n",
       "\n",
       "   ts  freq     route_name product_line_type_name route_class_parent_name  \n",
       "0   1     1  中航快捷酒店(北京东四店)                     境内                      酒店  \n",
       "1   1     1  斯洛主题酒店(北京南站店)                     境内                      酒店  \n",
       "2   1     8  斯洛主题酒店(北京南站店)                     境内                      酒店  \n",
       "3   1     2  斯洛主题酒店(北京南站店)                     境内                      酒店  \n",
       "4   1     2  斯洛主题酒店(北京南站店)                     境内                      酒店  "
      ]
     },
     "execution_count": 46,
     "metadata": {},
     "output_type": "execute_result"
    }
   ],
   "source": [
    "data.head()"
   ]
  },
  {
   "cell_type": "code",
   "execution_count": 86,
   "metadata": {},
   "outputs": [
    {
     "data": {
      "text/html": [
       "<div>\n",
       "<style scoped>\n",
       "    .dataframe tbody tr th:only-of-type {\n",
       "        vertical-align: middle;\n",
       "    }\n",
       "\n",
       "    .dataframe tbody tr th {\n",
       "        vertical-align: top;\n",
       "    }\n",
       "\n",
       "    .dataframe thead th {\n",
       "        text-align: right;\n",
       "    }\n",
       "</style>\n",
       "<table border=\"1\" class=\"dataframe\">\n",
       "  <thead>\n",
       "    <tr style=\"text-align: right;\">\n",
       "      <th></th>\n",
       "      <th>user_id</th>\n",
       "      <th>product_id</th>\n",
       "      <th>ordertype</th>\n",
       "      <th>ts</th>\n",
       "      <th>freq</th>\n",
       "    </tr>\n",
       "  </thead>\n",
       "  <tbody>\n",
       "    <tr>\n",
       "      <th>count</th>\n",
       "      <td>4.190100e+05</td>\n",
       "      <td>4.190100e+05</td>\n",
       "      <td>419010.000000</td>\n",
       "      <td>419010.000000</td>\n",
       "      <td>419010.000000</td>\n",
       "    </tr>\n",
       "    <tr>\n",
       "      <th>mean</th>\n",
       "      <td>5.093896e+07</td>\n",
       "      <td>4.288416e+07</td>\n",
       "      <td>1.461244</td>\n",
       "      <td>8.635493</td>\n",
       "      <td>9.266831</td>\n",
       "    </tr>\n",
       "    <tr>\n",
       "      <th>std</th>\n",
       "      <td>2.438688e+07</td>\n",
       "      <td>8.071910e+07</td>\n",
       "      <td>0.729102</td>\n",
       "      <td>13.267525</td>\n",
       "      <td>18.194435</td>\n",
       "    </tr>\n",
       "    <tr>\n",
       "      <th>min</th>\n",
       "      <td>6.900000e+01</td>\n",
       "      <td>5.037388e+06</td>\n",
       "      <td>1.000000</td>\n",
       "      <td>1.000000</td>\n",
       "      <td>1.000000</td>\n",
       "    </tr>\n",
       "    <tr>\n",
       "      <th>25%</th>\n",
       "      <td>3.133160e+07</td>\n",
       "      <td>5.190022e+06</td>\n",
       "      <td>1.000000</td>\n",
       "      <td>1.000000</td>\n",
       "      <td>2.000000</td>\n",
       "    </tr>\n",
       "    <tr>\n",
       "      <th>50%</th>\n",
       "      <td>5.926529e+07</td>\n",
       "      <td>5.190022e+06</td>\n",
       "      <td>1.000000</td>\n",
       "      <td>1.000000</td>\n",
       "      <td>4.000000</td>\n",
       "    </tr>\n",
       "    <tr>\n",
       "      <th>75%</th>\n",
       "      <td>7.214187e+07</td>\n",
       "      <td>5.709894e+06</td>\n",
       "      <td>2.000000</td>\n",
       "      <td>10.000000</td>\n",
       "      <td>10.000000</td>\n",
       "    </tr>\n",
       "    <tr>\n",
       "      <th>max</th>\n",
       "      <td>2.000009e+09</td>\n",
       "      <td>3.002000e+08</td>\n",
       "      <td>3.000000</td>\n",
       "      <td>59.000000</td>\n",
       "      <td>1881.000000</td>\n",
       "    </tr>\n",
       "  </tbody>\n",
       "</table>\n",
       "</div>"
      ],
      "text/plain": [
       "            user_id    product_id      ordertype             ts           freq\n",
       "count  4.190100e+05  4.190100e+05  419010.000000  419010.000000  419010.000000\n",
       "mean   5.093896e+07  4.288416e+07       1.461244       8.635493       9.266831\n",
       "std    2.438688e+07  8.071910e+07       0.729102      13.267525      18.194435\n",
       "min    6.900000e+01  5.037388e+06       1.000000       1.000000       1.000000\n",
       "25%    3.133160e+07  5.190022e+06       1.000000       1.000000       2.000000\n",
       "50%    5.926529e+07  5.190022e+06       1.000000       1.000000       4.000000\n",
       "75%    7.214187e+07  5.709894e+06       2.000000      10.000000      10.000000\n",
       "max    2.000009e+09  3.002000e+08       3.000000      59.000000    1881.000000"
      ]
     },
     "execution_count": 86,
     "metadata": {},
     "output_type": "execute_result"
    }
   ],
   "source": [
    "data.describe()"
   ]
  },
  {
   "cell_type": "code",
   "execution_count": 48,
   "metadata": {},
   "outputs": [
    {
     "data": {
      "text/plain": [
       "'\\nproduct_line_type_name \\n境内：  国内酒店  火车票 汽车票 用车服务\\n境外：  衍生品 通信  国际酒店 机票\\n国内当地参团： 跟团游\\n出境：  签证\\n\\n\\nroute_class_parent_name\\n火车票： 境内\\n酒店： 境内 境外\\n汽车票： 境内\\n门票： NULL\\n签证： 出境\\n邮轮： 出境短线  国内长线（很少）\\n目的地服务： 出境短线      国内长线 出境长线(很少)\\n用车服务： 境内\\n衍生品：境外\\n\\n\\n由于所有路线的火车票都是一个品类，所有火车票犹豫期不太可靠，根据经验用户应该只关注一天\\n\\n\\n\\n'"
      ]
     },
     "execution_count": 48,
     "metadata": {},
     "output_type": "execute_result"
    }
   ],
   "source": [
    "\"\"\"\n",
    "product_line_type_name \n",
    "境内：  国内酒店  火车票 汽车票 用车服务\n",
    "境外：  衍生品 通信  国际酒店 机票\n",
    "国内当地参团： 跟团游\n",
    "出境：  签证\n",
    "\n",
    "\n",
    "route_class_parent_name\n",
    "火车票： 境内\n",
    "酒店： 境内 境外\n",
    "汽车票： 境内\n",
    "门票： NULL\n",
    "签证： 出境\n",
    "邮轮： 出境短线  国内长线（很少）\n",
    "目的地服务： 出境短线      国内长线 出境长线(很少)\n",
    "用车服务： 境内\n",
    "衍生品：境外\n",
    "\n",
    "\n",
    "由于所有路线的火车票都是一个品类，所以火车票犹豫期不太可靠，根据经验用户应该只关注一天\n",
    "\n",
    "\"\"\"\n"
   ]
  },
  {
   "cell_type": "code",
   "execution_count": 49,
   "metadata": {},
   "outputs": [
    {
     "data": {
      "text/plain": [
       "境内        253924\n",
       "国内机票       73656\n",
       "周边         34825\n",
       "国内长线       17255\n",
       "境外         14446\n",
       "出境短线        9615\n",
       "出境长线        4241\n",
       "国内当地参团      2496\n",
       "出境          1863\n",
       "新疆             5\n",
       "欧洲             1\n",
       "Name: product_line_type_name, dtype: int64"
      ]
     },
     "execution_count": 49,
     "metadata": {},
     "output_type": "execute_result"
    }
   ],
   "source": [
    "data.product_line_type_name.value_counts()"
   ]
  },
  {
   "cell_type": "code",
   "execution_count": 50,
   "metadata": {},
   "outputs": [
    {
     "data": {
      "text/plain": [
       "火车票      197134\n",
       "机票        87039\n",
       "跟团游       55924\n",
       "酒店        45102\n",
       "汽车票       10555\n",
       "自助游        6298\n",
       "自驾游        4843\n",
       "门票         3207\n",
       "签证         1864\n",
       "用车服务       1275\n",
       "衍生品         875\n",
       "目的地服务       631\n",
       "邮轮          622\n",
       "定制游          54\n",
       "通信           51\n",
       "团队游          32\n",
       "旅拍           28\n",
       "Name: route_class_parent_name, dtype: int64"
      ]
     },
     "execution_count": 50,
     "metadata": {},
     "output_type": "execute_result"
    }
   ],
   "source": [
    "data.route_class_parent_name.value_counts()"
   ]
  },
  {
   "cell_type": "code",
   "execution_count": 51,
   "metadata": {},
   "outputs": [],
   "source": [
    "routetypes = ['出境长线','出境短线','国内长线','周边','国内当地参团','出境','境外','境内','国内机票']\n",
    "producttypes=['跟团游','自助游','自驾游','门票','签证','火车票','酒店','汽车票','用车服务','目的地服务','衍生品','邮轮']"
   ]
  },
  {
   "cell_type": "code",
   "execution_count": 52,
   "metadata": {},
   "outputs": [
    {
     "name": "stdout",
     "output_type": "stream",
     "text": [
      "-------跟团游--------\n",
      "               freq            ts\n",
      "count  55924.000000  55924.000000\n",
      "mean       7.173682      5.370986\n",
      "std       10.009357      9.075068\n",
      "min        1.000000      1.000000\n",
      "25%        2.000000      1.000000\n",
      "50%        5.000000      1.000000\n",
      "75%        9.000000      5.000000\n",
      "max     1076.000000     59.000000\n",
      " \n",
      "0.95分位数：\n",
      "freq    22.0\n",
      "ts      27.0\n",
      "Name: 0.95, dtype: float64\n",
      " \n",
      "-------自助游--------\n",
      "              freq           ts\n",
      "count  6298.000000  6298.000000\n",
      "mean     14.478882     5.751032\n",
      "std      26.370582     9.499878\n",
      "min       1.000000     1.000000\n",
      "25%       4.000000     1.000000\n",
      "50%       8.000000     1.000000\n",
      "75%      16.000000     5.000000\n",
      "max     867.000000    58.000000\n",
      " \n",
      "0.95分位数：\n",
      "freq    48.0\n",
      "ts      28.0\n",
      "Name: 0.95, dtype: float64\n",
      " \n",
      "-------自驾游--------\n",
      "              freq           ts\n",
      "count  4843.000000  4843.000000\n",
      "mean      8.940946     3.445385\n",
      "std      10.426778     6.772553\n",
      "min       1.000000     1.000000\n",
      "25%       3.000000     1.000000\n",
      "50%       6.000000     1.000000\n",
      "75%      12.000000     2.000000\n",
      "max     315.000000    57.000000\n",
      " \n",
      "0.95分位数：\n",
      "freq    25.9\n",
      "ts      16.0\n",
      "Name: 0.95, dtype: float64\n",
      " \n",
      "-------门票--------\n",
      "              freq           ts\n",
      "count  3207.000000  3207.000000\n",
      "mean      2.994075     2.027128\n",
      "std       2.915042     3.868496\n",
      "min       1.000000     1.000000\n",
      "25%       1.000000     1.000000\n",
      "50%       2.000000     1.000000\n",
      "75%       4.000000     1.000000\n",
      "max      44.000000    45.000000\n",
      " \n",
      "0.95分位数：\n",
      "freq    8.0\n",
      "ts      7.0\n",
      "Name: 0.95, dtype: float64\n",
      " \n",
      "-------签证--------\n",
      "              freq           ts\n",
      "count  1864.000000  1864.000000\n",
      "mean      5.792382     6.873391\n",
      "std       6.026719     9.942187\n",
      "min       1.000000     1.000000\n",
      "25%       2.000000     1.000000\n",
      "50%       4.000000     1.000000\n",
      "75%       7.000000     9.000000\n",
      "max      57.000000    58.000000\n",
      " \n",
      "0.95分位数：\n",
      "freq    17.0\n",
      "ts      30.0\n",
      "Name: 0.95, dtype: float64\n",
      " \n",
      "-------火车票--------\n",
      "                freq             ts\n",
      "count  197134.000000  197134.000000\n",
      "mean        9.144587      10.241587\n",
      "std        16.331136      14.434272\n",
      "min         1.000000       1.000000\n",
      "25%         2.000000       1.000000\n",
      "50%         4.000000       1.000000\n",
      "75%        10.000000      16.000000\n",
      "max      1195.000000      59.000000\n",
      " \n",
      "0.95分位数：\n",
      "freq    33.0\n",
      "ts      42.0\n",
      "Name: 0.95, dtype: float64\n",
      " \n",
      "-------酒店--------\n",
      "               freq            ts\n",
      "count  45102.000000  45102.000000\n",
      "mean       3.518824      2.622766\n",
      "std        4.601972      5.792878\n",
      "min        1.000000      1.000000\n",
      "25%        1.000000      1.000000\n",
      "50%        2.000000      1.000000\n",
      "75%        4.000000      1.000000\n",
      "max      462.000000     58.000000\n",
      " \n",
      "0.95分位数：\n",
      "freq    10.0\n",
      "ts      12.0\n",
      "Name: 0.95, dtype: float64\n",
      " \n",
      "-------汽车票--------\n",
      "               freq            ts\n",
      "count  10555.000000  10555.000000\n",
      "mean       4.890005     10.641118\n",
      "std        6.481993     14.985213\n",
      "min        1.000000      1.000000\n",
      "25%        1.000000      1.000000\n",
      "50%        3.000000      1.000000\n",
      "75%        6.000000     18.000000\n",
      "max      174.000000     59.000000\n",
      " \n",
      "0.95分位数：\n",
      "freq    16.0\n",
      "ts      43.0\n",
      "Name: 0.95, dtype: float64\n",
      " \n",
      "-------用车服务--------\n",
      "              freq           ts\n",
      "count  1275.000000  1275.000000\n",
      "mean      8.087059     7.529412\n",
      "std      12.120967    11.477083\n",
      "min       1.000000     1.000000\n",
      "25%       2.000000     1.000000\n",
      "50%       5.000000     1.000000\n",
      "75%      10.000000     8.000000\n",
      "max     227.000000    56.000000\n",
      " \n",
      "0.95分位数：\n",
      "freq    25.0\n",
      "ts      35.0\n",
      "Name: 0.95, dtype: float64\n",
      " \n",
      "-------目的地服务--------\n",
      "             freq          ts\n",
      "count  631.000000  631.000000\n",
      "mean     7.188590    5.812995\n",
      "std      6.872138    8.565521\n",
      "min      1.000000    1.000000\n",
      "25%      2.000000    1.000000\n",
      "50%      5.000000    1.000000\n",
      "75%      9.500000    6.000000\n",
      "max     67.000000   44.000000\n",
      " \n",
      "0.95分位数：\n",
      "freq    20.0\n",
      "ts      26.0\n",
      "Name: 0.95, dtype: float64\n",
      " \n",
      "-------衍生品--------\n",
      "             freq          ts\n",
      "count  875.000000  875.000000\n",
      "mean     3.563429    5.149714\n",
      "std      3.398955    8.237701\n",
      "min      1.000000    1.000000\n",
      "25%      2.000000    1.000000\n",
      "50%      2.000000    1.000000\n",
      "75%      4.000000    5.000000\n",
      "max     36.000000   47.000000\n",
      " \n",
      "0.95分位数：\n",
      "freq     9.0\n",
      "ts      26.0\n",
      "Name: 0.95, dtype: float64\n",
      " \n",
      "-------邮轮--------\n",
      "             freq          ts\n",
      "count  622.000000  622.000000\n",
      "mean     5.151125    5.397106\n",
      "std      4.908469    8.280403\n",
      "min      1.000000    1.000000\n",
      "25%      2.000000    1.000000\n",
      "50%      3.000000    2.000000\n",
      "75%      7.000000    6.000000\n",
      "max     35.000000   54.000000\n",
      " \n",
      "0.95分位数：\n",
      "freq    15.0\n",
      "ts      23.0\n",
      "Name: 0.95, dtype: float64\n",
      " \n"
     ]
    }
   ],
   "source": [
    "for product in producttypes:\n",
    "    sample = data.loc[data.route_class_parent_name==product,['freq','ts']]\n",
    "    print(\"-------{0}--------\".format(product))\n",
    "    print(sample.describe())\n",
    "    print(\" \")\n",
    "    print('{0}分位数：'.format(a))\n",
    "    print(sample.quantile(a))\n",
    "    print(\" \")"
   ]
  },
  {
   "cell_type": "code",
   "execution_count": 53,
   "metadata": {},
   "outputs": [
    {
     "name": "stdout",
     "output_type": "stream",
     "text": [
      "-------出境长线--------\n",
      "              freq           ts\n",
      "count  4241.000000  4241.000000\n",
      "mean     10.306060    10.802877\n",
      "std      20.563768    13.244999\n",
      "min       1.000000     1.000000\n",
      "25%       3.000000     1.000000\n",
      "50%       6.000000     4.000000\n",
      "75%      13.000000    18.000000\n",
      "max    1076.000000    57.000000\n",
      " \n",
      "0.95分位数：\n",
      "freq    33.0\n",
      "ts      40.0\n",
      "Name: 0.95, dtype: float64\n",
      " \n",
      "-------出境短线--------\n",
      "              freq           ts\n",
      "count  9615.000000  9615.000000\n",
      "mean     10.625065     7.523661\n",
      "std      18.917027    10.828054\n",
      "min       1.000000     1.000000\n",
      "25%       3.000000     1.000000\n",
      "50%       6.000000     2.000000\n",
      "75%      12.000000     9.000000\n",
      "max     867.000000    58.000000\n",
      " \n",
      "0.95分位数：\n",
      "freq    33.0\n",
      "ts      32.0\n",
      "Name: 0.95, dtype: float64\n",
      " \n",
      "-------国内长线--------\n",
      "               freq            ts\n",
      "count  17255.000000  17255.000000\n",
      "mean      10.175543      5.181455\n",
      "std       14.754958      8.802374\n",
      "min        1.000000      1.000000\n",
      "25%        3.000000      1.000000\n",
      "50%        6.000000      1.000000\n",
      "75%       12.000000      4.000000\n",
      "max      410.000000     58.000000\n",
      " \n",
      "0.95分位数：\n",
      "freq    32.0\n",
      "ts      26.0\n",
      "Name: 0.95, dtype: float64\n",
      " \n",
      "-------周边--------\n",
      "               freq            ts\n",
      "count  34825.000000  34825.000000\n",
      "mean       5.910007      4.080144\n",
      "std        6.544262      7.447410\n",
      "min        1.000000      1.000000\n",
      "25%        2.000000      1.000000\n",
      "50%        4.000000      1.000000\n",
      "75%        7.000000      3.000000\n",
      "max      315.000000     59.000000\n",
      " \n",
      "0.95分位数：\n",
      "freq    17.0\n",
      "ts      20.0\n",
      "Name: 0.95, dtype: float64\n",
      " \n",
      "-------国内当地参团--------\n",
      "              freq           ts\n",
      "count  2496.000000  2496.000000\n",
      "mean      6.895433     4.476362\n",
      "std       7.566398     7.529677\n",
      "min       1.000000     1.000000\n",
      "25%       2.000000     1.000000\n",
      "50%       5.000000     1.000000\n",
      "75%       9.000000     4.000000\n",
      "max     110.000000    57.000000\n",
      " \n",
      "0.95分位数：\n",
      "freq    21.0\n",
      "ts      21.0\n",
      "Name: 0.95, dtype: float64\n",
      " \n",
      "-------出境--------\n",
      "              freq           ts\n",
      "count  1863.000000  1863.000000\n",
      "mean      5.794954     6.872786\n",
      "std       6.027313     9.944822\n",
      "min       1.000000     1.000000\n",
      "25%       2.000000     1.000000\n",
      "50%       4.000000     1.000000\n",
      "75%       7.000000     9.000000\n",
      "max      57.000000    58.000000\n",
      " \n",
      "0.95分位数：\n",
      "freq    17.0\n",
      "ts      30.0\n",
      "Name: 0.95, dtype: float64\n",
      " \n",
      "-------境外--------\n",
      "               freq            ts\n",
      "count  14446.000000  14446.000000\n",
      "mean      21.128617      9.579330\n",
      "std       42.640642     13.605454\n",
      "min        1.000000      1.000000\n",
      "25%        3.000000      1.000000\n",
      "50%        8.000000      1.000000\n",
      "75%       22.000000     14.000000\n",
      "max     1378.000000     59.000000\n",
      " \n",
      "0.95分位数：\n",
      "freq    82.0\n",
      "ts      41.0\n",
      "Name: 0.95, dtype: float64\n",
      " \n",
      "-------境内--------\n",
      "                freq             ts\n",
      "count  253924.000000  253924.000000\n",
      "mean        7.966214       8.895610\n",
      "std        14.773999      13.645449\n",
      "min         1.000000       1.000000\n",
      "25%         2.000000       1.000000\n",
      "50%         4.000000       1.000000\n",
      "75%         8.000000      11.000000\n",
      "max      1195.000000      59.000000\n",
      " \n",
      "0.95分位数：\n",
      "freq    29.0\n",
      "ts      41.0\n",
      "Name: 0.95, dtype: float64\n",
      " \n",
      "-------国内机票--------\n",
      "               freq            ts\n",
      "count  73656.000000  73656.000000\n",
      "mean      12.996579     11.262545\n",
      "std       23.826903     14.909262\n",
      "min        1.000000      1.000000\n",
      "25%        2.000000      1.000000\n",
      "50%        6.000000      2.000000\n",
      "75%       15.000000     20.000000\n",
      "max     1881.000000     59.000000\n",
      " \n",
      "0.95分位数：\n",
      "freq    47.0\n",
      "ts      44.0\n",
      "Name: 0.95, dtype: float64\n",
      " \n"
     ]
    }
   ],
   "source": [
    "for route in routetypes:\n",
    "    sample = data.loc[data.product_line_type_name==route,['freq','ts']]\n",
    "    print(\"-------{0}--------\".format(route))\n",
    "    print(sample.describe())\n",
    "    print(\" \")\n",
    "    print('{0}分位数：'.format(a))\n",
    "    print(sample.quantile(a))\n",
    "    print(\" \")"
   ]
  },
  {
   "cell_type": "code",
   "execution_count": 54,
   "metadata": {},
   "outputs": [],
   "source": [
    "sample = data.loc[data.route_class_parent_name==\"自驾游\",'ts']"
   ]
  },
  {
   "cell_type": "code",
   "execution_count": 55,
   "metadata": {},
   "outputs": [
    {
     "data": {
      "text/plain": [
       "count    4843.000000\n",
       "mean        3.445385\n",
       "std         6.772553\n",
       "min         1.000000\n",
       "25%         1.000000\n",
       "50%         1.000000\n",
       "75%         2.000000\n",
       "max        57.000000\n",
       "Name: ts, dtype: float64"
      ]
     },
     "execution_count": 55,
     "metadata": {},
     "output_type": "execute_result"
    }
   ],
   "source": [
    "sample.describe()"
   ]
  },
  {
   "cell_type": "code",
   "execution_count": 56,
   "metadata": {},
   "outputs": [
    {
     "data": {
      "text/plain": [
       "16.0"
      ]
     },
     "execution_count": 56,
     "metadata": {},
     "output_type": "execute_result"
    }
   ],
   "source": [
    "sample.quantile(0.95)"
   ]
  },
  {
   "cell_type": "code",
   "execution_count": 57,
   "metadata": {},
   "outputs": [],
   "source": [
    "sample= sample[sample<19]"
   ]
  },
  {
   "cell_type": "code",
   "execution_count": 58,
   "metadata": {},
   "outputs": [
    {
     "data": {
      "text/plain": [
       "count    4629.000000\n",
       "mean        2.204364\n",
       "std         2.901609\n",
       "min         1.000000\n",
       "25%         1.000000\n",
       "50%         1.000000\n",
       "75%         2.000000\n",
       "max        18.000000\n",
       "Name: ts, dtype: float64"
      ]
     },
     "execution_count": 58,
     "metadata": {},
     "output_type": "execute_result"
    }
   ],
   "source": [
    "sample.describe()"
   ]
  },
  {
   "cell_type": "code",
   "execution_count": 59,
   "metadata": {},
   "outputs": [
    {
     "data": {
      "text/plain": [
       "0.5625"
      ]
     },
     "execution_count": 59,
     "metadata": {},
     "output_type": "execute_result"
    }
   ],
   "source": [
    "0.75**2"
   ]
  },
  {
   "cell_type": "code",
   "execution_count": 60,
   "metadata": {},
   "outputs": [],
   "source": [
    "sample2 = data.loc[data.product_line_type_name==\"周边\",'ts']"
   ]
  },
  {
   "cell_type": "code",
   "execution_count": 61,
   "metadata": {},
   "outputs": [
    {
     "data": {
      "text/plain": [
       "count    34825.000000\n",
       "mean         4.080144\n",
       "std          7.447410\n",
       "min          1.000000\n",
       "25%          1.000000\n",
       "50%          1.000000\n",
       "75%          3.000000\n",
       "max         59.000000\n",
       "Name: ts, dtype: float64"
      ]
     },
     "execution_count": 61,
     "metadata": {},
     "output_type": "execute_result"
    }
   ],
   "source": [
    "sample2.describe()"
   ]
  },
  {
   "cell_type": "code",
   "execution_count": 62,
   "metadata": {},
   "outputs": [
    {
     "data": {
      "text/plain": [
       "20.0"
      ]
     },
     "execution_count": 62,
     "metadata": {},
     "output_type": "execute_result"
    }
   ],
   "source": [
    "sample2.quantile(0.95)"
   ]
  },
  {
   "cell_type": "code",
   "execution_count": 63,
   "metadata": {},
   "outputs": [],
   "source": [
    "sample2= sample2[sample2<15]"
   ]
  },
  {
   "cell_type": "code",
   "execution_count": 64,
   "metadata": {},
   "outputs": [
    {
     "data": {
      "text/plain": [
       "count    32106.000000\n",
       "mean         2.200648\n",
       "std          2.601351\n",
       "min          1.000000\n",
       "25%          1.000000\n",
       "50%          1.000000\n",
       "75%          2.000000\n",
       "max         14.000000\n",
       "Name: ts, dtype: float64"
      ]
     },
     "execution_count": 64,
     "metadata": {},
     "output_type": "execute_result"
    }
   ],
   "source": [
    "sample2.describe()"
   ]
  },
  {
   "cell_type": "markdown",
   "metadata": {},
   "source": [
    "# 目的地大类与品类交叉维度"
   ]
  },
  {
   "cell_type": "code",
   "execution_count": 65,
   "metadata": {},
   "outputs": [],
   "source": [
    "routetypes = ['出境长线','出境短线','国内长线','周边']\n",
    "producttypes=['跟团游','自助游','自驾游']"
   ]
  },
  {
   "cell_type": "code",
   "execution_count": 66,
   "metadata": {},
   "outputs": [
    {
     "name": "stdout",
     "output_type": "stream",
     "text": [
      "-------出境长线+跟团游--------\n",
      "count    3859.000000\n",
      "mean       11.067893\n",
      "std        13.399939\n",
      "min         1.000000\n",
      "25%         1.000000\n",
      "50%         4.000000\n",
      "75%        18.000000\n",
      "max        57.000000\n",
      "Name: ts, dtype: float64\n",
      " \n",
      "0.95分位数： 41.0\n",
      " \n",
      "-------出境长线+自助游--------\n",
      "count    307.000000\n",
      "mean       8.788274\n",
      "std       11.761413\n",
      "min        1.000000\n",
      "25%        1.000000\n",
      "50%        3.000000\n",
      "75%       13.000000\n",
      "max       54.000000\n",
      "Name: ts, dtype: float64\n",
      " \n",
      "0.95分位数： 38.0\n",
      " \n",
      "-------出境长线+自驾游--------\n",
      "count     2.000000\n",
      "mean      9.000000\n",
      "std      11.313708\n",
      "min       1.000000\n",
      "25%       5.000000\n",
      "50%       9.000000\n",
      "75%      13.000000\n",
      "max      17.000000\n",
      "Name: ts, dtype: float64\n",
      " \n",
      "0.95分位数： 16.2\n",
      " \n",
      "-------出境短线+跟团游--------\n",
      "count    6730.000000\n",
      "mean        7.746360\n",
      "std        11.123004\n",
      "min         1.000000\n",
      "25%         1.000000\n",
      "50%         2.000000\n",
      "75%         9.000000\n",
      "max        58.000000\n",
      "Name: ts, dtype: float64\n",
      " \n",
      "0.95分位数： 33.0\n",
      " \n",
      "-------出境短线+自助游--------\n",
      "count    1750.000000\n",
      "mean        7.858857\n",
      "std        10.919691\n",
      "min         1.000000\n",
      "25%         1.000000\n",
      "50%         2.000000\n",
      "75%        10.000000\n",
      "max        55.000000\n",
      "Name: ts, dtype: float64\n",
      " \n",
      "0.95分位数： 32.0\n",
      " \n",
      "-------出境短线+自驾游--------\n",
      "count    0.0\n",
      "mean     NaN\n",
      "std      NaN\n",
      "min      NaN\n",
      "25%      NaN\n",
      "50%      NaN\n",
      "75%      NaN\n",
      "max      NaN\n",
      "Name: ts, dtype: float64\n",
      " \n",
      "0.95分位数： nan\n",
      " \n",
      "-------国内长线+跟团游--------\n",
      "count    14167.000000\n",
      "mean         5.234206\n",
      "std          8.798652\n",
      "min          1.000000\n",
      "25%          1.000000\n",
      "50%          1.000000\n",
      "75%          5.000000\n",
      "max         58.000000\n",
      "Name: ts, dtype: float64\n",
      " \n",
      "0.95分位数： 26.69999999999891\n",
      " \n",
      "-------国内长线+自助游--------\n",
      "count    2954.000000\n",
      "mean        4.953622\n",
      "std         8.864381\n",
      "min         1.000000\n",
      "25%         1.000000\n",
      "50%         1.000000\n",
      "75%         4.000000\n",
      "max        58.000000\n",
      "Name: ts, dtype: float64\n",
      " \n",
      "0.95分位数： 26.0\n",
      " \n",
      "-------国内长线+自驾游--------\n",
      "count     2.000000\n",
      "mean      6.500000\n",
      "std       7.778175\n",
      "min       1.000000\n",
      "25%       3.750000\n",
      "50%       6.500000\n",
      "75%       9.250000\n",
      "max      12.000000\n",
      "Name: ts, dtype: float64\n",
      " \n",
      "0.95分位数： 11.45\n",
      " \n",
      "-------周边+跟团游--------\n",
      "count    28672.000000\n",
      "mean         4.192139\n",
      "std          7.556021\n",
      "min          1.000000\n",
      "25%          1.000000\n",
      "50%          1.000000\n",
      "75%          3.000000\n",
      "max         59.000000\n",
      "Name: ts, dtype: float64\n",
      " \n",
      "0.95分位数： 21.0\n",
      " \n",
      "-------周边+自助游--------\n",
      "count    1287.000000\n",
      "mean        3.990676\n",
      "std         7.319518\n",
      "min         1.000000\n",
      "25%         1.000000\n",
      "50%         1.000000\n",
      "75%         3.000000\n",
      "max        56.000000\n",
      "Name: ts, dtype: float64\n",
      " \n",
      "0.95分位数： 21.700000000000045\n",
      " \n",
      "-------周边+自驾游--------\n",
      "count    4839.000000\n",
      "mean        3.441827\n",
      "std         6.771249\n",
      "min         1.000000\n",
      "25%         1.000000\n",
      "50%         1.000000\n",
      "75%         2.000000\n",
      "max        57.000000\n",
      "Name: ts, dtype: float64\n",
      " \n",
      "0.95分位数： 16.0\n",
      " \n"
     ]
    }
   ],
   "source": [
    "for route in routetypes:\n",
    "    for product in producttypes:\n",
    "        sample = data.loc[(data.product_line_type_name==route)&(data.route_class_parent_name==product)&(data.ts>0),'ts']\n",
    "        print(\"-------{0}+{1}--------\".format(route, product))\n",
    "        print(sample.describe())\n",
    "        print(\" \")\n",
    "        print('{0}分位数：'.format(a),sample.quantile(a))\n",
    "        print(\" \")"
   ]
  },
  {
   "cell_type": "code",
   "execution_count": 67,
   "metadata": {},
   "outputs": [
    {
     "name": "stdout",
     "output_type": "stream",
     "text": [
      "-------出境长线+跟团游--------\n",
      "count    3859.000000\n",
      "mean       10.107800\n",
      "std        20.884009\n",
      "min         1.000000\n",
      "25%         3.000000\n",
      "50%         6.000000\n",
      "75%        12.000000\n",
      "max      1076.000000\n",
      "Name: freq, dtype: float64\n",
      " \n",
      "0.95分位数： 31.0\n",
      " \n",
      "-------出境长线+自助游--------\n",
      "count    307.000000\n",
      "mean      13.765472\n",
      "std       18.370827\n",
      "min        1.000000\n",
      "25%        3.000000\n",
      "50%        8.000000\n",
      "75%       17.000000\n",
      "max      156.000000\n",
      "Name: freq, dtype: float64\n",
      " \n",
      "0.95分位数： 45.39999999999998\n",
      " \n",
      "-------出境长线+自驾游--------\n",
      "count     2.000000\n",
      "mean     11.000000\n",
      "std       9.899495\n",
      "min       4.000000\n",
      "25%       7.500000\n",
      "50%      11.000000\n",
      "75%      14.500000\n",
      "max      18.000000\n",
      "Name: freq, dtype: float64\n",
      " \n",
      "0.95分位数： 17.299999999999997\n",
      " \n",
      "-------出境短线+跟团游--------\n",
      "count    6730.000000\n",
      "mean        8.938782\n",
      "std        10.590493\n",
      "min         1.000000\n",
      "25%         3.000000\n",
      "50%         6.000000\n",
      "75%        11.000000\n",
      "max       177.000000\n",
      "Name: freq, dtype: float64\n",
      " \n",
      "0.95分位数： 28.0\n",
      " \n",
      "-------出境短线+自助游--------\n",
      "count    1750.000000\n",
      "mean       19.913143\n",
      "std        37.373922\n",
      "min         1.000000\n",
      "25%         5.000000\n",
      "50%        10.000000\n",
      "75%        21.000000\n",
      "max       867.000000\n",
      "Name: freq, dtype: float64\n",
      " \n",
      "0.95分位数： 65.54999999999995\n",
      " \n",
      "-------出境短线+自驾游--------\n",
      "count    0.0\n",
      "mean     NaN\n",
      "std      NaN\n",
      "min      NaN\n",
      "25%      NaN\n",
      "50%      NaN\n",
      "75%      NaN\n",
      "max      NaN\n",
      "Name: freq, dtype: float64\n",
      " \n",
      "0.95分位数： nan\n",
      " \n",
      "-------国内长线+跟团游--------\n",
      "count    14167.000000\n",
      "mean         9.277758\n",
      "std         11.773967\n",
      "min          1.000000\n",
      "25%          3.000000\n",
      "50%          6.000000\n",
      "75%         11.000000\n",
      "max        300.000000\n",
      "Name: freq, dtype: float64\n",
      " \n",
      "0.95分位数： 29.0\n",
      " \n",
      "-------国内长线+自助游--------\n",
      "count    2954.000000\n",
      "mean       14.568382\n",
      "std        23.600142\n",
      "min         1.000000\n",
      "25%         4.000000\n",
      "50%         8.000000\n",
      "75%        16.000000\n",
      "max       410.000000\n",
      "Name: freq, dtype: float64\n",
      " \n",
      "0.95分位数： 47.0\n",
      " \n",
      "-------国内长线+自驾游--------\n",
      "count     2.000000\n",
      "mean     29.000000\n",
      "std      38.183766\n",
      "min       2.000000\n",
      "25%      15.500000\n",
      "50%      29.000000\n",
      "75%      42.500000\n",
      "max      56.000000\n",
      "Name: freq, dtype: float64\n",
      " \n",
      "0.95分位数： 53.3\n",
      " \n",
      "-------周边+跟团游--------\n",
      "count    28672.000000\n",
      "mean         5.349051\n",
      "std          5.432823\n",
      "min          1.000000\n",
      "25%          2.000000\n",
      "50%          4.000000\n",
      "75%          7.000000\n",
      "max        104.000000\n",
      "Name: freq, dtype: float64\n",
      " \n",
      "0.95分位数： 15.0\n",
      " \n",
      "-------周边+自助游--------\n",
      "count    1287.000000\n",
      "mean        7.054390\n",
      "std         7.118427\n",
      "min         1.000000\n",
      "25%         3.000000\n",
      "50%         5.000000\n",
      "75%         9.000000\n",
      "max        79.000000\n",
      "Name: freq, dtype: float64\n",
      " \n",
      "0.95分位数： 19.0\n",
      " \n",
      "-------周边+自驾游--------\n",
      "count    4839.000000\n",
      "mean        8.931804\n",
      "std        10.407584\n",
      "min         1.000000\n",
      "25%         3.000000\n",
      "50%         6.000000\n",
      "75%        12.000000\n",
      "max       315.000000\n",
      "Name: freq, dtype: float64\n",
      " \n",
      "0.95分位数： 25.099999999999454\n",
      " \n"
     ]
    }
   ],
   "source": [
    "for route in routetypes:\n",
    "    for product in producttypes:\n",
    "        sample = data.loc[(data.product_line_type_name==route)&(data.route_class_parent_name==product)&(data.ts>0),'freq']\n",
    "        print(\"-------{0}+{1}--------\".format(route, product))\n",
    "        print(sample.describe())\n",
    "        print(\" \")\n",
    "        print('{0}分位数：'.format(a),sample.quantile(a))\n",
    "        print(\" \")"
   ]
  },
  {
   "cell_type": "markdown",
   "metadata": {},
   "source": [
    "## 产品衰减图"
   ]
  },
  {
   "cell_type": "code",
   "execution_count": 68,
   "metadata": {},
   "outputs": [],
   "source": [
    "sample=data.ts"
   ]
  },
  {
   "cell_type": "code",
   "execution_count": 69,
   "metadata": {},
   "outputs": [
    {
     "data": {
      "text/plain": [
       "40.0"
      ]
     },
     "execution_count": 69,
     "metadata": {},
     "output_type": "execute_result"
    }
   ],
   "source": [
    "sample.quantile(0.95)"
   ]
  },
  {
   "cell_type": "code",
   "execution_count": 71,
   "metadata": {},
   "outputs": [
    {
     "data": {
      "text/plain": [
       "count    419010.000000\n",
       "mean          8.635493\n",
       "std          13.267525\n",
       "min           1.000000\n",
       "25%           1.000000\n",
       "50%           1.000000\n",
       "75%          10.000000\n",
       "max          59.000000\n",
       "Name: ts, dtype: float64"
      ]
     },
     "execution_count": 71,
     "metadata": {},
     "output_type": "execute_result"
    }
   ],
   "source": [
    "sample.describe()"
   ]
  },
  {
   "cell_type": "code",
   "execution_count": 88,
   "metadata": {},
   "outputs": [
    {
     "data": {
      "text/plain": [
       "40.0"
      ]
     },
     "execution_count": 88,
     "metadata": {},
     "output_type": "execute_result"
    }
   ],
   "source": [
    "sample.quantile(a)"
   ]
  },
  {
   "cell_type": "code",
   "execution_count": 145,
   "metadata": {
    "scrolled": true
   },
   "outputs": [
    {
     "name": "stdout",
     "output_type": "stream",
     "text": [
      "419010\n"
     ]
    }
   ],
   "source": [
    "print(sum(sample.value_counts()))"
   ]
  },
  {
   "cell_type": "code",
   "execution_count": 72,
   "metadata": {},
   "outputs": [],
   "source": [
    "ts = sample.value_counts().index.tolist()\n",
    "amount = (sample.value_counts()/sum(sample.value_counts())).tolist()"
   ]
  },
  {
   "cell_type": "code",
   "execution_count": 73,
   "metadata": {},
   "outputs": [
    {
     "data": {
      "text/plain": [
       "419010"
      ]
     },
     "execution_count": 73,
     "metadata": {},
     "output_type": "execute_result"
    }
   ],
   "source": [
    "sum(sample.value_counts())"
   ]
  },
  {
   "cell_type": "code",
   "execution_count": 75,
   "metadata": {},
   "outputs": [
    {
     "data": {
      "text/plain": [
       "<matplotlib.collections.PathCollection at 0x7fdd7ee8d588>"
      ]
     },
     "execution_count": 75,
     "metadata": {},
     "output_type": "execute_result"
    },
    {
     "data": {
      "image/png": "[encoded data removed]",
      "text/plain": [
       "<matplotlib.figure.Figure at 0x7fdd7eed2400>"
      ]
     },
     "metadata": {},
     "output_type": "display_data"
    }
   ],
   "source": [
    "plt.scatter(ts,amount)"
   ]
  },
  {
   "cell_type": "code",
   "execution_count": 76,
   "metadata": {},
   "outputs": [
    {
     "data": {
      "text/plain": [
       "count    419010.000000\n",
       "mean          8.635493\n",
       "std          13.267525\n",
       "min           1.000000\n",
       "25%           1.000000\n",
       "50%           1.000000\n",
       "75%          10.000000\n",
       "max          59.000000\n",
       "Name: ts, dtype: float64"
      ]
     },
     "execution_count": 76,
     "metadata": {},
     "output_type": "execute_result"
    }
   ],
   "source": [
    "sample.describe()"
   ]
  },
  {
   "cell_type": "code",
   "execution_count": 78,
   "metadata": {},
   "outputs": [
    {
     "data": {
      "text/plain": [
       "<matplotlib.collections.PathCollection at 0x7fdd7ee66470>"
      ]
     },
     "execution_count": 78,
     "metadata": {},
     "output_type": "execute_result"
    },
    {
     "data": {
      "image/png": "[encoded data removed]",
      "text/plain": [
       "<matplotlib.figure.Figure at 0x7fdd7eefe2b0>"
      ]
     },
     "metadata": {},
     "output_type": "display_data"
    }
   ],
   "source": [
    "ts2 = sample.value_counts().index.tolist()[1:]\n",
    "sample2 = sample.value_counts().tolist()[1:]\n",
    "amount2 = ((np.array(sample2))/sum(sample2)).tolist()\n",
    "plt.scatter(ts2,amount2)"
   ]
  },
  {
   "cell_type": "markdown",
   "metadata": {},
   "source": [
    "## 构造兴趣度，构造全局产品兴趣度模型"
   ]
  },
  {
   "cell_type": "code",
   "execution_count": null,
   "metadata": {},
   "outputs": [],
   "source": [
    "sample=data.ts\n",
    "ts = sample.value_counts().index.tolist()\n",
    "amount = (sample.value_counts()/sum(sample.value_counts())).tolist()"
   ]
  },
  {
   "cell_type": "code",
   "execution_count": 151,
   "metadata": {},
   "outputs": [],
   "source": [
    "\"\"\"构建兴趣度\"\"\"\n",
    "amount_j = []\n",
    "j=0\n",
    "for i in amount:\n",
    "    j = j+i\n",
    "    amount_j.append(j)"
   ]
  },
  {
   "cell_type": "code",
   "execution_count": 153,
   "metadata": {},
   "outputs": [
    {
     "data": {
      "text/plain": [
       "59"
      ]
     },
     "execution_count": 153,
     "metadata": {},
     "output_type": "execute_result"
    }
   ],
   "source": [
    "len(amount_j)"
   ]
  },
  {
   "cell_type": "code",
   "execution_count": 157,
   "metadata": {},
   "outputs": [],
   "source": [
    "usr_inter = 1-np.array(amount_j)"
   ]
  },
  {
   "cell_type": "code",
   "execution_count": 169,
   "metadata": {},
   "outputs": [
    {
     "name": "stdout",
     "output_type": "stream",
     "text": [
      "[0.44645474 0.38849908 0.35313238 0.32759123 0.30814539 0.29170187\n",
      " 0.27729887 0.26515835 0.25477674 0.24534975]\n"
     ]
    }
   ],
   "source": [
    "print(usr_inter[0:10])"
   ]
  },
  {
   "cell_type": "code",
   "execution_count": 166,
   "metadata": {},
   "outputs": [
    {
     "data": {
      "text/plain": [
       "[<matplotlib.lines.Line2D at 0x7fdd7e844da0>]"
      ]
     },
     "execution_count": 166,
     "metadata": {},
     "output_type": "execute_result"
    },
    {
     "data": {
      "image/png": "[encoded data removed]",
      "text/plain": [
       "<matplotlib.figure.Figure at 0x7fdd7eb977f0>"
      ]
     },
     "metadata": {},
     "output_type": "display_data"
    }
   ],
   "source": [
    "plt.plot(np.arange(1,60),[i for i in usr_inter])"
   ]
  },
  {
   "cell_type": "code",
   "execution_count": 16,
   "metadata": {},
   "outputs": [],
   "source": [
    "def func(x,a):  \n",
    "    return  0.45*(a**(x-1))"
   ]
  },
  {
   "cell_type": "code",
   "execution_count": 171,
   "metadata": {},
   "outputs": [
    {
     "name": "stdout",
     "output_type": "stream",
     "text": [
      "0.9380639013760886\n"
     ]
    },
    {
     "data": {
      "text/plain": [
       "[<matplotlib.lines.Line2D at 0x7fdd7e1c9cc0>]"
      ]
     },
     "execution_count": 171,
     "metadata": {},
     "output_type": "execute_result"
    },
    {
     "data": {
      "image/png": "[encoded data removed]",
      "text/plain": [
       "<matplotlib.figure.Figure at 0x7fdd7e1d40b8>"
      ]
     },
     "metadata": {},
     "output_type": "display_data"
    }
   ],
   "source": [
    "x=ts\n",
    "y=usr_inter\n",
    "plt.plot(x,y,'b-')  \n",
    "popt, pcov = curve_fit(func, x, y)  \n",
    "#popt数组中，三个值分别是待求参数a,b,c\n",
    "print(popt[0])\n",
    "y2 = [func(i, popt[0]) for i in x]  \n",
    "plt.plot(x,y2,'r--')"
   ]
  },
  {
   "cell_type": "code",
   "execution_count": 178,
   "metadata": {},
   "outputs": [
    {
     "data": {
      "text/plain": [
       "0.25295196599655967"
      ]
     },
     "execution_count": 178,
     "metadata": {},
     "output_type": "execute_result"
    }
   ],
   "source": [
    "0.45*(0.938**(10-1))"
   ]
  },
  {
   "cell_type": "markdown",
   "metadata": {},
   "source": [
    "## 根据目的地大类划分"
   ]
  },
  {
   "cell_type": "code",
   "execution_count": 18,
   "metadata": {},
   "outputs": [],
   "source": [
    "def func(x,a, b):  \n",
    "    return  b*(a**(x-1))"
   ]
  },
  {
   "cell_type": "code",
   "execution_count": 118,
   "metadata": {},
   "outputs": [],
   "source": [
    "routetypes = ['出境长线','出境短线','国内长线','周边','国内当地参团','出境','境外','境内','国内机票']"
   ]
  },
  {
   "cell_type": "code",
   "execution_count": 119,
   "metadata": {},
   "outputs": [],
   "source": [
    "samples = {}\n",
    "for route in routetypes:\n",
    "    sample = data.loc[data.product_line_type_name==route,['ts']]\n",
    "    samples[route]=sample"
   ]
  },
  {
   "cell_type": "code",
   "execution_count": 120,
   "metadata": {},
   "outputs": [],
   "source": [
    "info1 = {}\n",
    "for route in routetypes:\n",
    "    info2 = {}\n",
    "    ts=samples[route]['ts'].value_counts().index.tolist()\n",
    "    amount = (samples[route]['ts'].value_counts()/sum(samples[route]['ts'].value_counts())).tolist()\n",
    "    info2['ts']=ts\n",
    "    info2['amount']=amount\n",
    "    info1[route]=info2"
   ]
  },
  {
   "cell_type": "code",
   "execution_count": 121,
   "metadata": {},
   "outputs": [],
   "source": [
    "usr_inter_prd={}\n",
    "for route in routetypes:\n",
    "    sample = info1[route]['amount']\n",
    "    \"\"\"构建兴趣度\"\"\"\n",
    "    amount_j = []\n",
    "    j=0\n",
    "    for i in sample:\n",
    "        j = j+i\n",
    "        amount_j.append(j)\n",
    "    usr_inter = 1-np.array(amount_j)\n",
    "    usr_inter_prd[route]=usr_inter"
   ]
  },
  {
   "cell_type": "code",
   "execution_count": 122,
   "metadata": {},
   "outputs": [
    {
     "data": {
      "text/plain": [
       "array([ 6.55505777e-01,  5.71799104e-01,  5.10257015e-01,  4.71351096e-01,\n",
       "        4.39518981e-01,  4.14289083e-01,  3.90238151e-01,  3.68073568e-01,\n",
       "        3.49681679e-01,  3.33647725e-01,  3.18321151e-01,  3.04645131e-01,\n",
       "        2.91204905e-01,  2.78236265e-01,  2.65267626e-01,  2.52534780e-01,\n",
       "        2.41216694e-01,  2.29898609e-01,  2.18580523e-01,  2.07734025e-01,\n",
       "        1.96887527e-01,  1.86276822e-01,  1.75666116e-01,  1.65291205e-01,\n",
       "        1.55152087e-01,  1.45248762e-01,  1.35581231e-01,  1.26149493e-01,\n",
       "        1.18132516e-01,  1.10351332e-01,  1.02570149e-01,  9.52605518e-02,\n",
       "        8.84225419e-02,  8.15845320e-02,  7.52181089e-02,  6.88516859e-02,\n",
       "        6.27210564e-02,  5.70620137e-02,  5.14029710e-02,  4.62155152e-02,\n",
       "        4.12638529e-02,  3.65479840e-02,  3.23037020e-02,  2.82952134e-02,\n",
       "        2.45225183e-02,  2.09856166e-02,  1.76845084e-02,  1.48549870e-02,\n",
       "        1.22612591e-02,  9.66753124e-03,  7.30959679e-03,  5.18745579e-03,\n",
       "        3.06531478e-03,  1.65055411e-03,  7.07380335e-04,  2.35793445e-04,\n",
       "       -4.44089210e-16])"
      ]
     },
     "execution_count": 122,
     "metadata": {},
     "output_type": "execute_result"
    }
   ],
   "source": [
    "usr_inter_prd['出境长线']"
   ]
  },
  {
   "cell_type": "code",
   "execution_count": 123,
   "metadata": {},
   "outputs": [
    {
     "data": {
      "text/plain": [
       "array([ 3.51012204e-01,  2.67997128e-01,  2.23632448e-01,  1.95376884e-01,\n",
       "        1.73582197e-01,  1.54544149e-01,  1.38004307e-01,  1.25427136e-01,\n",
       "        1.14860014e-01,  1.05786073e-01,  9.73151472e-02,  9.04235463e-02,\n",
       "        8.37329505e-02,  7.79612347e-02,  7.23043790e-02,  6.68485284e-02,\n",
       "        6.20818378e-02,  5.75161522e-02,  5.31514716e-02,  4.92749462e-02,\n",
       "        4.55132807e-02,  4.19239052e-02,  3.88226849e-02,  3.59798995e-02,\n",
       "        3.36252692e-02,  3.12706389e-02,  2.89447236e-02,  2.66475233e-02,\n",
       "        2.43790380e-02,  2.22828428e-02,  2.03015075e-02,  1.84637473e-02,\n",
       "        1.68269921e-02,  1.53338119e-02,  1.39267767e-02,  1.26346016e-02,\n",
       "        1.14860014e-02,  1.03948313e-02,  9.36109117e-03,  8.32735104e-03,\n",
       "        7.37975592e-03,  6.54702082e-03,  5.74300072e-03,  4.96769562e-03,\n",
       "        4.22110553e-03,  3.50323044e-03,  2.92893037e-03,  2.44077531e-03,\n",
       "        1.95262024e-03,  1.57932520e-03,  1.20603015e-03,  9.18880115e-04,\n",
       "        6.60445083e-04,  4.59440057e-04,  3.15865039e-04,  2.01005025e-04,\n",
       "        8.61450108e-05,  2.87150036e-05, -4.44089210e-16])"
      ]
     },
     "execution_count": 123,
     "metadata": {},
     "output_type": "execute_result"
    }
   ],
   "source": [
    "usr_inter_prd['周边']"
   ]
  },
  {
   "cell_type": "code",
   "execution_count": 100,
   "metadata": {},
   "outputs": [
    {
     "name": "stdout",
     "output_type": "stream",
     "text": [
      "------出境长线的模型参数a,b分别是----\n",
      "0.9427104878021129 0.5761874350728046\n",
      "------出境短线的模型参数a,b分别是----\n",
      "0.9255495216800634 0.48476481606279226\n",
      "------国内长线的模型参数a,b分别是----\n",
      "0.9080248649943942 0.36689897554928874\n",
      "------周边的模型参数a,b分别是----\n",
      "0.9001281226103575 0.2939449123543118\n",
      "------国内当地参团的模型参数a,b分别是----\n",
      "0.8891417546978561 0.3613091976736532\n",
      "------出境的模型参数a,b分别是----\n",
      "0.9247592448080916 0.4416523730609702\n",
      "------境外的模型参数a,b分别是----\n",
      "0.9513218558068155 0.4459973295754248\n",
      "------境内的模型参数a,b分别是----\n",
      "0.9563690595521154 0.3626151154202466\n",
      "------国内机票的模型参数a,b分别是----\n",
      "0.9578515899360256 0.46386247280857756\n"
     ]
    }
   ],
   "source": [
    "for route in routetypes:\n",
    "    x=info1[route]['ts']\n",
    "    y=usr_inter_prd[route]\n",
    "    popt, pcov = curve_fit(func, x, y)  \n",
    "    print('------{}的模型参数a,b分别是----'.format(route))\n",
    "    print(popt[0],popt[1])\n"
   ]
  },
  {
   "cell_type": "markdown",
   "metadata": {},
   "source": [
    "## 根据品类划分"
   ]
  },
  {
   "cell_type": "code",
   "execution_count": 20,
   "metadata": {},
   "outputs": [],
   "source": [
    "def func(x,a, b):  \n",
    "    return  b*(a**(x-1))"
   ]
  },
  {
   "cell_type": "code",
   "execution_count": 32,
   "metadata": {},
   "outputs": [],
   "source": [
    "producttypes=['跟团游','自助游','自驾游','火车票','酒店']"
   ]
  },
  {
   "cell_type": "code",
   "execution_count": 33,
   "metadata": {},
   "outputs": [],
   "source": [
    "samples = {}\n",
    "for product in producttypes:\n",
    "    sample = data.loc[data.route_class_parent_name==product,['ts']]\n",
    "    samples[product]=sample\n"
   ]
  },
  {
   "cell_type": "code",
   "execution_count": 34,
   "metadata": {},
   "outputs": [],
   "source": [
    "info1 = {}\n",
    "for product in producttypes:\n",
    "    info2 = {}\n",
    "    ts=samples[product]['ts'].value_counts().index.tolist()\n",
    "    amount = (samples[product]['ts'].value_counts()/sum(samples[product]['ts'].value_counts())).tolist()\n",
    "    info2['ts']=ts\n",
    "    info2['amount']=amount\n",
    "    info1[product]=info2"
   ]
  },
  {
   "cell_type": "code",
   "execution_count": 35,
   "metadata": {},
   "outputs": [],
   "source": [
    "usr_inter_prd={}\n",
    "for product in producttypes:\n",
    "    sample = info1[product]['amount']\n",
    "    \"\"\"构建兴趣度\"\"\"\n",
    "    amount_j = []\n",
    "    j=0\n",
    "    for i in sample:\n",
    "        j = j+i\n",
    "        amount_j.append(j)\n",
    "    usr_inter = 1-np.array(amount_j)\n",
    "    usr_inter_prd[product]=usr_inter"
   ]
  },
  {
   "cell_type": "code",
   "execution_count": 36,
   "metadata": {},
   "outputs": [
    {
     "data": {
      "text/plain": [
       "array([ 4.32157929e-01,  3.42089264e-01,  2.90537158e-01,  2.56276375e-01,\n",
       "        2.29400615e-01,  2.07638939e-01,  1.89131679e-01,  1.73413919e-01,\n",
       "        1.60539303e-01,  1.49488592e-01,  1.39778986e-01,  1.31034976e-01,\n",
       "        1.22809527e-01,  1.14923825e-01,  1.07717617e-01,  1.01190902e-01,\n",
       "        9.49860525e-02,  8.95501037e-02,  8.41141549e-02,  7.87139690e-02,\n",
       "        7.36177670e-02,  6.90401259e-02,  6.46591803e-02,  6.03139976e-02,\n",
       "        5.60224591e-02,  5.17666834e-02,  4.80473500e-02,  4.46498820e-02,\n",
       "        4.12524140e-02,  3.79443531e-02,  3.46720549e-02,  3.19004363e-02,\n",
       "        2.91466991e-02,  2.65360132e-02,  2.40504971e-02,  2.16007439e-02,\n",
       "        1.97768400e-02,  1.80959874e-02,  1.64151348e-02,  1.47700451e-02,\n",
       "        1.33037694e-02,  1.18732566e-02,  1.05321508e-02,  9.19104499e-03,\n",
       "        7.99299049e-03,  6.93798727e-03,  5.91874687e-03,  5.02467635e-03,\n",
       "        4.13060582e-03,  3.32594235e-03,  2.53916029e-03,  1.89542951e-03,\n",
       "        1.34110579e-03,  8.94070524e-04,  5.90086546e-04,  2.86102568e-04,\n",
       "        1.25169873e-04,  1.78814105e-05, -2.22044605e-16])"
      ]
     },
     "execution_count": 36,
     "metadata": {},
     "output_type": "execute_result"
    }
   ],
   "source": [
    "usr_inter_prd['跟团游']"
   ]
  },
  {
   "cell_type": "code",
   "execution_count": 37,
   "metadata": {},
   "outputs": [
    {
     "data": {
      "text/plain": [
       "array([4.52524611e-01, 3.58050175e-01, 3.05811369e-01, 2.72943792e-01,\n",
       "       2.43410607e-01, 2.21181327e-01, 2.02445221e-01, 1.87996189e-01,\n",
       "       1.75293744e-01, 1.63543982e-01, 1.53540807e-01, 1.44172753e-01,\n",
       "       1.35916164e-01, 1.27659574e-01, 1.19561766e-01, 1.12575421e-01,\n",
       "       1.05747856e-01, 9.90790727e-02, 9.27278501e-02, 8.65354081e-02,\n",
       "       8.05017466e-02, 7.47856462e-02, 7.00222293e-02, 6.52588123e-02,\n",
       "       6.06541759e-02, 5.60495395e-02, 5.16036837e-02, 4.73166084e-02,\n",
       "       4.31883138e-02, 4.01714830e-02, 3.73134328e-02, 3.46141632e-02,\n",
       "       3.20736742e-02, 2.95331851e-02, 2.69926961e-02, 2.47697682e-02,\n",
       "       2.25468403e-02, 2.04826929e-02, 1.85773261e-02, 1.68307399e-02,\n",
       "       1.50841537e-02, 1.34963480e-02, 1.19085424e-02, 1.03207367e-02,\n",
       "       8.89171165e-03, 7.46268657e-03, 6.03366148e-03, 4.92219752e-03,\n",
       "       3.96951413e-03, 3.17561131e-03, 2.38170848e-03, 1.74658622e-03,\n",
       "       1.11146396e-03, 6.35122261e-04, 3.17561131e-04, 1.58780565e-04,\n",
       "       2.22044605e-16])"
      ]
     },
     "execution_count": 37,
     "metadata": {},
     "output_type": "execute_result"
    }
   ],
   "source": [
    "usr_inter_prd['自助游']"
   ]
  },
  {
   "cell_type": "code",
   "execution_count": 38,
   "metadata": {},
   "outputs": [
    {
     "data": {
      "text/plain": [
       "array([ 3.06834607e-01,  2.21143919e-01,  1.81499071e-01,  1.55895106e-01,\n",
       "        1.37931034e-01,  1.20792897e-01,  1.05719595e-01,  9.51889325e-02,\n",
       "        8.56906876e-02,  7.78443114e-02,  7.28887053e-02,  6.79330993e-02,\n",
       "        6.31839769e-02,  5.84348544e-02,  5.38922156e-02,  4.95560603e-02,\n",
       "        4.54263886e-02,  4.17096841e-02,  3.86124303e-02,  3.57216601e-02,\n",
       "        3.32438571e-02,  3.07660541e-02,  2.82882511e-02,  2.60169317e-02,\n",
       "        2.41585794e-02,  2.25067107e-02,  2.10613256e-02,  1.96159405e-02,\n",
       "        1.81705554e-02,  1.67251703e-02,  1.54862688e-02,  1.42473673e-02,\n",
       "        1.30084658e-02,  1.17695643e-02,  1.07371464e-02,  9.70472847e-03,\n",
       "        8.87879414e-03,  8.05285980e-03,  7.22692546e-03,  6.40099112e-03,\n",
       "        5.78154037e-03,  5.16208961e-03,  4.54263886e-03,  3.92318811e-03,\n",
       "        3.30373735e-03,  2.89077018e-03,  2.47780301e-03,  2.06483585e-03,\n",
       "        1.65186868e-03,  1.23890151e-03,  8.25934338e-04,  6.19450754e-04,\n",
       "        4.12967169e-04,  2.06483585e-04, -4.44089210e-16])"
      ]
     },
     "execution_count": 38,
     "metadata": {},
     "output_type": "execute_result"
    }
   ],
   "source": [
    "usr_inter_prd['自驾游']"
   ]
  },
  {
   "cell_type": "code",
   "execution_count": 39,
   "metadata": {},
   "outputs": [
    {
     "name": "stdout",
     "output_type": "stream",
     "text": [
      "------跟团游的模型参数a,b分别是----\n",
      "0.9158414530884552 0.3607546005814944\n",
      "------自助游的模型参数a,b分别是----\n",
      "0.9185999492221707 0.377523240030804\n",
      "------自驾游的模型参数a,b分别是----\n",
      "0.8850977092046007 0.2531542195995455\n",
      "------火车票的模型参数a,b分别是----\n",
      "0.9579585440551311 0.4099851165290497\n",
      "------酒店的模型参数a,b分别是----\n",
      "0.9087449658645766 0.14225887657094277\n"
     ]
    }
   ],
   "source": [
    "for product in producttypes:\n",
    "    x=info1[product]['ts']\n",
    "    y=usr_inter_prd[product]\n",
    "    popt, pcov = curve_fit(func, x, y)  \n",
    "    print('------{}的模型参数a,b分别是----'.format(product))\n",
    "    print(popt[0],popt[1])\n"
   ]
  },
  {
   "cell_type": "code",
   "execution_count": null,
   "metadata": {},
   "outputs": [],
   "source": []
  },
  {
   "cell_type": "code",
   "execution_count": null,
   "metadata": {},
   "outputs": [],
   "source": []
  },
  {
   "cell_type": "code",
   "execution_count": null,
   "metadata": {},
   "outputs": [],
   "source": []
  },
  {
   "cell_type": "code",
   "execution_count": null,
   "metadata": {},
   "outputs": [],
   "source": []
  }
 ],
 "metadata": {
  "kernelspec": {
   "display_name": "Python 3",
   "language": "python",
   "name": "python3"
  },
  "language_info": {
   "codemirror_mode": {
    "name": "ipython",
    "version": 3
   },
   "file_extension": ".py",
   "mimetype": "text/x-python",
   "name": "python",
   "nbconvert_exporter": "python",
   "pygments_lexer": "ipython3",
   "version": "3.6.4"
  }
 },
 "nbformat": 4,
 "nbformat_minor": 2
}
