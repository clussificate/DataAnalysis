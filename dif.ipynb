{
 "cells": [
  {
   "cell_type": "code",
   "execution_count": 1,
   "metadata": {},
   "outputs": [],
   "source": [
    "import numpy as np\n",
    "import pandas as pd\n",
    "import matplotlib.pyplot as plt"
   ]
  },
  {
   "cell_type": "code",
   "execution_count": 8,
   "metadata": {},
   "outputs": [
    {
     "data": {
      "text/plain": [
       "'\\n注意 ：\\n\\n没有设置dif字段\\n取7天浏览要设置 dif=7, 15天浏览要设置dif=15\\n\\n\\n\\n\\n\"data/dif.csv\"   tmp_gj_dif 表\\n\"data/dif_uid\"    tmp_gj_dif_uid表\\n\\n\\n'"
      ]
     },
     "execution_count": 8,
     "metadata": {},
     "output_type": "execute_result"
    }
   ],
   "source": [
    "\"\"\"\n",
    "注意 ：\n",
    "\n",
    "没有设置dif字段\n",
    "取7天浏览要设置 dif=7, 15天浏览要设置dif=15\n",
    "\n",
    "\n",
    "\n",
    "\n",
    "\"data/dif.csv\"   tmp_gj_dif 表\n",
    "\"data/dif_uid\"    tmp_gj_dif_uid表\n",
    "\n",
    "\n",
    "\"\"\""
   ]
  },
  {
   "cell_type": "code",
   "execution_count": 4,
   "metadata": {},
   "outputs": [],
   "source": [
    "dif_uid = pd.read_csv(\"data/dif_uid.csv\",sep='\\t')"
   ]
  },
  {
   "cell_type": "code",
   "execution_count": 5,
   "metadata": {},
   "outputs": [
    {
     "data": {
      "text/html": [
       "<div>\n",
       "<style scoped>\n",
       "    .dataframe tbody tr th:only-of-type {\n",
       "        vertical-align: middle;\n",
       "    }\n",
       "\n",
       "    .dataframe tbody tr th {\n",
       "        vertical-align: top;\n",
       "    }\n",
       "\n",
       "    .dataframe thead th {\n",
       "        text-align: right;\n",
       "    }\n",
       "</style>\n",
       "<table border=\"1\" class=\"dataframe\">\n",
       "  <thead>\n",
       "    <tr style=\"text-align: right;\">\n",
       "      <th></th>\n",
       "      <th>unique_id</th>\n",
       "      <th>visitor_trace</th>\n",
       "      <th>session_trace</th>\n",
       "      <th>userid</th>\n",
       "      <th>dif</th>\n",
       "      <th>bg_num</th>\n",
       "      <th>pv</th>\n",
       "      <th>pv_poi</th>\n",
       "      <th>scan_days</th>\n",
       "    </tr>\n",
       "  </thead>\n",
       "  <tbody>\n",
       "    <tr>\n",
       "      <th>0</th>\n",
       "      <td>000d40726ba5489b9e55fc2fde7c5e63-6219603656544...</td>\n",
       "      <td>8423D39A-7732-4380-94A5-5EC9A43C8D5B</td>\n",
       "      <td>8423D39A-7732-4380-94A5-5EC9A43C8D5B_20180418_01</td>\n",
       "      <td>71359824.0</td>\n",
       "      <td>7</td>\n",
       "      <td>1</td>\n",
       "      <td>44</td>\n",
       "      <td>22</td>\n",
       "      <td>1</td>\n",
       "    </tr>\n",
       "    <tr>\n",
       "      <th>1</th>\n",
       "      <td>0033ec4687ea484f9ddc0771d38bb1d7-6218977237654...</td>\n",
       "      <td>165576FC-E7F1-4EA2-A0FF-4C74007472BA</td>\n",
       "      <td>165576FC-E7F1-4EA2-A0FF-4C74007472BA_20180418_02</td>\n",
       "      <td>75790560.0</td>\n",
       "      <td>7</td>\n",
       "      <td>1</td>\n",
       "      <td>10</td>\n",
       "      <td>3</td>\n",
       "      <td>0</td>\n",
       "    </tr>\n",
       "    <tr>\n",
       "      <th>2</th>\n",
       "      <td>003cbcae614541b99d2c575540f515ee-6219509670108...</td>\n",
       "      <td>81F7AC9D-D06D-463B-988A-3F2C85F9CC83</td>\n",
       "      <td>81F7AC9D-D06D-463B-988A-3F2C85F9CC83_20180418_01</td>\n",
       "      <td>23939927.0</td>\n",
       "      <td>7</td>\n",
       "      <td>0</td>\n",
       "      <td>20</td>\n",
       "      <td>1</td>\n",
       "      <td>0</td>\n",
       "    </tr>\n",
       "    <tr>\n",
       "      <th>3</th>\n",
       "      <td>003d9f5406a747ae99ec8d86b276ae6b-6220092790901...</td>\n",
       "      <td>2994FE83-6349-44E8-8E8B-6A8FC41A122B</td>\n",
       "      <td>2994FE83-6349-44E8-8E8B-6A8FC41A122B_20180418_01</td>\n",
       "      <td>75803855.0</td>\n",
       "      <td>7</td>\n",
       "      <td>1</td>\n",
       "      <td>49</td>\n",
       "      <td>1</td>\n",
       "      <td>0</td>\n",
       "    </tr>\n",
       "    <tr>\n",
       "      <th>4</th>\n",
       "      <td>005156f45b614eaeb11536e92e257c19-1432854389289...</td>\n",
       "      <td>CBC63B90-7410-4623-92E1-12C5F6B26856</td>\n",
       "      <td>CBC63B90-7410-4623-92E1-12C5F6B26856_20180418_01</td>\n",
       "      <td>NaN</td>\n",
       "      <td>7</td>\n",
       "      <td>0</td>\n",
       "      <td>9</td>\n",
       "      <td>1</td>\n",
       "      <td>1</td>\n",
       "    </tr>\n",
       "  </tbody>\n",
       "</table>\n",
       "</div>"
      ],
      "text/plain": [
       "                                           unique_id  \\\n",
       "0  000d40726ba5489b9e55fc2fde7c5e63-6219603656544...   \n",
       "1  0033ec4687ea484f9ddc0771d38bb1d7-6218977237654...   \n",
       "2  003cbcae614541b99d2c575540f515ee-6219509670108...   \n",
       "3  003d9f5406a747ae99ec8d86b276ae6b-6220092790901...   \n",
       "4  005156f45b614eaeb11536e92e257c19-1432854389289...   \n",
       "\n",
       "                          visitor_trace  \\\n",
       "0  8423D39A-7732-4380-94A5-5EC9A43C8D5B   \n",
       "1  165576FC-E7F1-4EA2-A0FF-4C74007472BA   \n",
       "2  81F7AC9D-D06D-463B-988A-3F2C85F9CC83   \n",
       "3  2994FE83-6349-44E8-8E8B-6A8FC41A122B   \n",
       "4  CBC63B90-7410-4623-92E1-12C5F6B26856   \n",
       "\n",
       "                                      session_trace      userid  dif  bg_num  \\\n",
       "0  8423D39A-7732-4380-94A5-5EC9A43C8D5B_20180418_01  71359824.0    7       1   \n",
       "1  165576FC-E7F1-4EA2-A0FF-4C74007472BA_20180418_02  75790560.0    7       1   \n",
       "2  81F7AC9D-D06D-463B-988A-3F2C85F9CC83_20180418_01  23939927.0    7       0   \n",
       "3  2994FE83-6349-44E8-8E8B-6A8FC41A122B_20180418_01  75803855.0    7       1   \n",
       "4  CBC63B90-7410-4623-92E1-12C5F6B26856_20180418_01         NaN    7       0   \n",
       "\n",
       "   pv  pv_poi  scan_days  \n",
       "0  44      22          1  \n",
       "1  10       3          0  \n",
       "2  20       1          0  \n",
       "3  49       1          0  \n",
       "4   9       1          1  "
      ]
     },
     "execution_count": 5,
     "metadata": {},
     "output_type": "execute_result"
    }
   ],
   "source": [
    "dif.head()"
   ]
  },
  {
   "cell_type": "code",
   "execution_count": 6,
   "metadata": {},
   "outputs": [
    {
     "data": {
      "text/plain": [
       "(5960, 9)"
      ]
     },
     "execution_count": 6,
     "metadata": {},
     "output_type": "execute_result"
    }
   ],
   "source": [
    "dif.shape"
   ]
  },
  {
   "cell_type": "code",
   "execution_count": 9,
   "metadata": {},
   "outputs": [
    {
     "data": {
      "text/plain": [
       "(2022, 8)"
      ]
     },
     "execution_count": 9,
     "metadata": {},
     "output_type": "execute_result"
    }
   ],
   "source": [
    "x = dif['pv_poi']\n",
    "y = dif['scan_days']\n",
    "dif.shape"
   ]
  },
  {
   "cell_type": "code",
   "execution_count": 18,
   "metadata": {},
   "outputs": [
    {
     "data": {
      "text/plain": [
       "60.0"
      ]
     },
     "execution_count": 18,
     "metadata": {},
     "output_type": "execute_result"
    }
   ],
   "source": [
    "x.quantile(.95)"
   ]
  },
  {
   "cell_type": "code",
   "execution_count": 8,
   "metadata": {},
   "outputs": [
    {
     "data": {
      "text/plain": [
       "Text(0,0.5,'scan_days')"
      ]
     },
     "execution_count": 8,
     "metadata": {},
     "output_type": "execute_result"
    },
    {
     "data": {
      "image/png": "[encoded data removed]",
      "text/plain": [
       "<matplotlib.figure.Figure at 0x7fe0b54d5198>"
      ]
     },
     "metadata": {},
     "output_type": "display_data"
    }
   ],
   "source": [
    "plt.scatter(x,y)\n",
    "plt.xlabel('pv_poi')\n",
    "plt.ylabel('scan_days')"
   ]
  },
  {
   "cell_type": "code",
   "execution_count": 24,
   "metadata": {},
   "outputs": [
    {
     "data": {
      "text/plain": [
       "count    1052.000000\n",
       "mean       12.000000\n",
       "std        13.236558\n",
       "min         1.000000\n",
       "25%         2.750000\n",
       "50%         7.000000\n",
       "75%        16.000000\n",
       "max        60.000000\n",
       "Name: pv_poi, dtype: float64"
      ]
     },
     "execution_count": 24,
     "metadata": {},
     "output_type": "execute_result"
    }
   ],
   "source": [
    "x[(x>0)].describe()"
   ]
  },
  {
   "cell_type": "code",
   "execution_count": 27,
   "metadata": {},
   "outputs": [
    {
     "data": {
      "text/plain": [
       "42.44999999999993"
      ]
     },
     "execution_count": 27,
     "metadata": {},
     "output_type": "execute_result"
    }
   ],
   "source": [
    "x[(x>0)].quantile(0.95)"
   ]
  },
  {
   "cell_type": "code",
   "execution_count": 28,
   "metadata": {},
   "outputs": [
    {
     "data": {
      "text/plain": [
       "count    1001.000000\n",
       "mean        9.980020\n",
       "std         9.918548\n",
       "min         1.000000\n",
       "25%         2.000000\n",
       "50%         6.000000\n",
       "75%        15.000000\n",
       "max        43.000000\n",
       "Name: pv_poi, dtype: float64"
      ]
     },
     "execution_count": 28,
     "metadata": {},
     "output_type": "execute_result"
    },
    {
     "data": {
      "image/png": "[encoded data removed]",
      "text/plain": [
       "<matplotlib.figure.Figure at 0x7fe0abf7aac8>"
      ]
     },
     "metadata": {},
     "output_type": "display_data"
    }
   ],
   "source": [
    "x[(x<=43)&(x>0)].plot(kind='box')\n",
    "x[(x<=43)&(x>0)].describe()\n"
   ]
  },
  {
   "cell_type": "code",
   "execution_count": 11,
   "metadata": {},
   "outputs": [
    {
     "data": {
      "text/plain": [
       "<matplotlib.axes._subplots.AxesSubplot at 0x7fe0b54c0208>"
      ]
     },
     "execution_count": 11,
     "metadata": {},
     "output_type": "execute_result"
    },
    {
     "data": {
      "image/png": "[encoded data removed]",
      "text/plain": [
       "<matplotlib.figure.Figure at 0x7fe0acb6cb70>"
      ]
     },
     "metadata": {},
     "output_type": "display_data"
    }
   ],
   "source": [
    "x.plot(kind='box')"
   ]
  },
  {
   "cell_type": "code",
   "execution_count": 21,
   "metadata": {},
   "outputs": [
    {
     "name": "stdout",
     "output_type": "stream",
     "text": [
      "(2022, 8)\n"
     ]
    },
    {
     "data": {
      "text/plain": [
       "Text(0,0.5,'scan_days')"
      ]
     },
     "execution_count": 21,
     "metadata": {},
     "output_type": "execute_result"
    },
    {
     "data": {
      "image/png": "[encoded data removed]",
      "text/plain": [
       "<matplotlib.figure.Figure at 0x7fe0ac118c18>"
      ]
     },
     "metadata": {},
     "output_type": "display_data"
    }
   ],
   "source": [
    "data = dif.loc[dif.pv_poi<=60,['pv_poi','scan_days']]\n",
    "x = data['pv_poi']\n",
    "y=data['scan_days']\n",
    "print(dif.shape)\n",
    "plt.scatter(x,y)\n",
    "plt.xlabel('pv_poi')\n",
    "plt.ylabel('scan_days')"
   ]
  },
  {
   "cell_type": "code",
   "execution_count": null,
   "metadata": {},
   "outputs": [],
   "source": []
  },
  {
   "cell_type": "code",
   "execution_count": 58,
   "metadata": {},
   "outputs": [],
   "source": [
    "dif = pd.read_csv(\"data/dif.csv\",sep='\\t')"
   ]
  },
  {
   "cell_type": "code",
   "execution_count": 103,
   "metadata": {},
   "outputs": [],
   "source": [
    "gb=dif.loc[(dif.bg_num==8)&(dif['dif']==15),'pv_poi']"
   ]
  },
  {
   "cell_type": "code",
   "execution_count": 104,
   "metadata": {},
   "outputs": [
    {
     "data": {
      "text/plain": [
       "count      6.000000\n",
       "mean      40.000000\n",
       "std       49.493434\n",
       "min        0.000000\n",
       "25%        6.500000\n",
       "50%       18.000000\n",
       "75%       62.500000\n",
       "max      124.000000\n",
       "Name: pv_poi, dtype: float64"
      ]
     },
     "execution_count": 104,
     "metadata": {},
     "output_type": "execute_result"
    }
   ],
   "source": [
    "gb.describe()"
   ]
  },
  {
   "cell_type": "code",
   "execution_count": 100,
   "metadata": {},
   "outputs": [
    {
     "data": {
      "text/plain": [
       "134.9499999999999"
      ]
     },
     "execution_count": 100,
     "metadata": {},
     "output_type": "execute_result"
    }
   ],
   "source": [
    "gb.quantile(0.95)"
   ]
  },
  {
   "cell_type": "code",
   "execution_count": 101,
   "metadata": {},
   "outputs": [
    {
     "data": {
      "text/plain": [
       "count      74.000000\n",
       "mean      142.310811\n",
       "std       225.461592\n",
       "min         1.000000\n",
       "25%        16.250000\n",
       "50%        75.000000\n",
       "75%       182.500000\n",
       "max      1425.000000\n",
       "Name: pv, dtype: float64"
      ]
     },
     "execution_count": 101,
     "metadata": {},
     "output_type": "execute_result"
    }
   ],
   "source": [
    "dif.loc[(dif.bg_num==4)&(dif['dif']==15),'pv'].describe()"
   ]
  },
  {
   "cell_type": "code",
   "execution_count": 124,
   "metadata": {},
   "outputs": [
    {
     "data": {
      "text/plain": [
       "count      8.0000\n",
       "mean      84.7500\n",
       "std       83.1466\n",
       "min        1.0000\n",
       "25%        2.0000\n",
       "50%       77.0000\n",
       "75%      153.0000\n",
       "max      213.0000\n",
       "Name: pv, dtype: float64"
      ]
     },
     "execution_count": 124,
     "metadata": {},
     "output_type": "execute_result"
    }
   ],
   "source": [
    "dif.loc[(dif.bg_num==7)&(dif['dif']==7)&(dif['pv_poi']<58),'pv'].describe()"
   ]
  },
  {
   "cell_type": "code",
   "execution_count": null,
   "metadata": {},
   "outputs": [],
   "source": []
  }
 ],
 "metadata": {
  "kernelspec": {
   "display_name": "Python 3",
   "language": "python",
   "name": "python3"
  },
  "language_info": {
   "codemirror_mode": {
    "name": "ipython",
    "version": 3
   },
   "file_extension": ".py",
   "mimetype": "text/x-python",
   "name": "python",
   "nbconvert_exporter": "python",
   "pygments_lexer": "ipython3",
   "version": "3.6.4"
  }
 },
 "nbformat": 4,
 "nbformat_minor": 2
}
