{
 "cells": [
  {
   "cell_type": "code",
   "execution_count": 22,
   "metadata": {},
   "outputs": [],
   "source": [
    "import numpy as np\n",
    "import pandas as pd\n",
    "import matplotlib.pyplot as plt\n",
    "%matplotlib inline\n",
    "import os\n",
    "from scipy.optimize import curve_fit"
   ]
  },
  {
   "cell_type": "code",
   "execution_count": 23,
   "metadata": {},
   "outputs": [],
   "source": [
    "data = pd.read_csv('data/ordertraf_rouprd.csv',sep='\\t')"
   ]
  },
  {
   "cell_type": "code",
   "execution_count": 24,
   "metadata": {},
   "outputs": [
    {
     "data": {
      "text/html": [
       "<div>\n",
       "<style scoped>\n",
       "    .dataframe tbody tr th:only-of-type {\n",
       "        vertical-align: middle;\n",
       "    }\n",
       "\n",
       "    .dataframe tbody tr th {\n",
       "        vertical-align: top;\n",
       "    }\n",
       "\n",
       "    .dataframe thead th {\n",
       "        text-align: right;\n",
       "    }\n",
       "</style>\n",
       "<table border=\"1\" class=\"dataframe\">\n",
       "  <thead>\n",
       "    <tr style=\"text-align: right;\">\n",
       "      <th></th>\n",
       "      <th>user_id</th>\n",
       "      <th>product_line_type_name</th>\n",
       "      <th>route_class_parent_name</th>\n",
       "      <th>create_time</th>\n",
       "      <th>create_time_next</th>\n",
       "      <th>ordertype</th>\n",
       "      <th>ts</th>\n",
       "      <th>freq</th>\n",
       "    </tr>\n",
       "  </thead>\n",
       "  <tbody>\n",
       "    <tr>\n",
       "      <th>0</th>\n",
       "      <td>10004914</td>\n",
       "      <td>其他</td>\n",
       "      <td>单资源</td>\n",
       "      <td>2018-03-22 10:50:52</td>\n",
       "      <td>2018-03-27 01:03:12</td>\n",
       "      <td>1</td>\n",
       "      <td>19</td>\n",
       "      <td>34</td>\n",
       "    </tr>\n",
       "    <tr>\n",
       "      <th>1</th>\n",
       "      <td>10005916</td>\n",
       "      <td>国内长线</td>\n",
       "      <td>度假</td>\n",
       "      <td>2018-03-27 11:35:38</td>\n",
       "      <td>2018-03-27 11:35:38</td>\n",
       "      <td>1</td>\n",
       "      <td>24</td>\n",
       "      <td>7</td>\n",
       "    </tr>\n",
       "    <tr>\n",
       "      <th>2</th>\n",
       "      <td>10006158</td>\n",
       "      <td>其他</td>\n",
       "      <td>单资源</td>\n",
       "      <td>2018-04-10 19:44:34</td>\n",
       "      <td>2018-04-13 13:18:02</td>\n",
       "      <td>1</td>\n",
       "      <td>52</td>\n",
       "      <td>17</td>\n",
       "    </tr>\n",
       "    <tr>\n",
       "      <th>3</th>\n",
       "      <td>10006634</td>\n",
       "      <td>其他</td>\n",
       "      <td>单资源</td>\n",
       "      <td>2018-04-09 10:56:54</td>\n",
       "      <td>2018-04-09 10:56:54</td>\n",
       "      <td>1</td>\n",
       "      <td>22</td>\n",
       "      <td>7</td>\n",
       "    </tr>\n",
       "    <tr>\n",
       "      <th>4</th>\n",
       "      <td>10006634</td>\n",
       "      <td>出境短线</td>\n",
       "      <td>度假</td>\n",
       "      <td>2018-03-18 16:56:42</td>\n",
       "      <td>2018-03-18 16:56:42</td>\n",
       "      <td>1</td>\n",
       "      <td>1</td>\n",
       "      <td>8</td>\n",
       "    </tr>\n",
       "  </tbody>\n",
       "</table>\n",
       "</div>"
      ],
      "text/plain": [
       "    user_id product_line_type_name route_class_parent_name  \\\n",
       "0  10004914                     其他                     单资源   \n",
       "1  10005916                   国内长线                      度假   \n",
       "2  10006158                     其他                     单资源   \n",
       "3  10006634                     其他                     单资源   \n",
       "4  10006634                   出境短线                      度假   \n",
       "\n",
       "           create_time     create_time_next  ordertype  ts  freq  \n",
       "0  2018-03-22 10:50:52  2018-03-27 01:03:12          1  19    34  \n",
       "1  2018-03-27 11:35:38  2018-03-27 11:35:38          1  24     7  \n",
       "2  2018-04-10 19:44:34  2018-04-13 13:18:02          1  52    17  \n",
       "3  2018-04-09 10:56:54  2018-04-09 10:56:54          1  22     7  \n",
       "4  2018-03-18 16:56:42  2018-03-18 16:56:42          1   1     8  "
      ]
     },
     "execution_count": 24,
     "metadata": {},
     "output_type": "execute_result"
    }
   ],
   "source": [
    "data.head()"
   ]
  },
  {
   "cell_type": "code",
   "execution_count": 25,
   "metadata": {},
   "outputs": [
    {
     "data": {
      "text/plain": [
       "27     32\n",
       "90     21\n",
       "120    15\n",
       "175    29\n",
       "198    34\n",
       "Name: ts, dtype: int64"
      ]
     },
     "execution_count": 25,
     "metadata": {},
     "output_type": "execute_result"
    }
   ],
   "source": [
    "data.loc[(data.product_line_type_name=='出境长线')&(data.route_class_parent_name=='度假'),'ts'].head()"
   ]
  },
  {
   "cell_type": "code",
   "execution_count": 26,
   "metadata": {},
   "outputs": [],
   "source": [
    "prdtypes = ['度假','单资源']\n",
    "routeclass = ['国内长线','周边','其他','出境长线','出境短线']"
   ]
  },
  {
   "cell_type": "code",
   "execution_count": 27,
   "metadata": {},
   "outputs": [],
   "source": [
    "\"\"\"\n",
    "输入：一个Series\n",
    "输出：描述用户兴趣度随时间衰减的数组\n",
    "\"\"\"\n",
    "def calc_inter(sample):\n",
    "    if not isinstance(sample,pd.Series):\n",
    "        print(\"类型异常，退出\")\n",
    "        return -1\n",
    "    max_value = sample.value_counts().index.max()\n",
    "    ts = np.arange(1,max_value+1)\n",
    "    amounts =[]\n",
    "    for i in ts:\n",
    "        amount = len(sample[sample==i])/len(sample)\n",
    "        amounts.append(amount)\n",
    "    amount_j = []\n",
    "    j=0\n",
    "    for i in amounts:\n",
    "        j = j+i\n",
    "        amount_j.append(j)\n",
    "    usr_inter = 1-np.array(amount_j)\n",
    "    return usr_inter"
   ]
  },
  {
   "cell_type": "code",
   "execution_count": 28,
   "metadata": {},
   "outputs": [
    {
     "name": "stdout",
     "output_type": "stream",
     "text": [
      "22074\n",
      "----度假*国内长线....计算.....---\n",
      "36354\n",
      "----度假*周边....计算.....---\n",
      "2681\n",
      "----度假*其他....计算.....---\n",
      "5219\n",
      "----度假*出境长线....计算.....---\n",
      "12470\n",
      "----度假*出境短线....计算.....---\n",
      "165\n",
      "----单资源*国内长线....计算.....---\n",
      "71\n",
      "----单资源*周边....计算.....---\n",
      "396142\n",
      "----单资源*其他....计算.....---\n",
      "77\n",
      "----单资源*出境长线....计算.....---\n",
      "724\n",
      "----单资源*出境短线....计算.....---\n"
     ]
    }
   ],
   "source": [
    "\"\"\"\n",
    "usr_inters1存储品类目的地大类的兴趣度衰减数据\n",
    "\"\"\"\n",
    "usr_inters1={}\n",
    "for prd in prdtypes:\n",
    "    usr_inters2 = {}\n",
    "    for rou in routeclass:\n",
    "        sample = data.loc[(data.route_class_parent_name==prd)&(data.product_line_type_name==rou),'ts']\n",
    "        if len(sample)==0:\n",
    "            print(\"不包含{}*{}组合项目\".format(prd,rou))\n",
    "            continue\n",
    "        print(len(sample))\n",
    "        print(\"----{}*{}....计算.....---\".format(prd,rou))\n",
    "        usr_inter = calc_inter(sample)\n",
    "        usr_inters2[rou]=usr_inter\n",
    "    usr_inters1[prd]=usr_inters2"
   ]
  },
  {
   "cell_type": "code",
   "execution_count": 37,
   "metadata": {},
   "outputs": [
    {
     "data": {
      "text/plain": [
       "array([ 8.31960146e-01,  7.76202338e-01,  7.38072428e-01,  7.12013796e-01,\n",
       "        6.83464265e-01,  6.62387431e-01,  6.43993102e-01,  6.22916267e-01,\n",
       "        6.05863192e-01,  5.89576547e-01,  5.76930446e-01,  5.66392029e-01,\n",
       "        5.52404675e-01,  5.39375359e-01,  5.26729258e-01,  5.11783867e-01,\n",
       "        4.98754551e-01,  4.84958804e-01,  4.71929488e-01,  4.57942135e-01,\n",
       "        4.42613527e-01,  4.28242958e-01,  4.15788465e-01,  3.97968960e-01,\n",
       "        3.81490707e-01,  3.64246024e-01,  3.43360797e-01,  3.25924507e-01,\n",
       "        3.05230887e-01,  2.88752635e-01,  2.67100977e-01,  2.50431117e-01,\n",
       "        2.35102510e-01,  2.20923549e-01,  2.04828511e-01,  1.88158651e-01,\n",
       "        1.76470588e-01,  1.64016095e-01,  1.50411956e-01,  1.38723893e-01,\n",
       "        1.27610653e-01,  1.15539375e-01,  1.04234528e-01,  9.38877180e-02,\n",
       "        8.25828703e-02,  7.31940985e-02,  6.41885419e-02,  5.61410232e-02,\n",
       "        4.69438590e-02,  3.81299099e-02,  2.91243533e-02,  2.26096953e-02,\n",
       "        1.59034298e-02,  1.01552021e-02,  7.28108833e-03,  4.02375934e-03,\n",
       "        1.91607588e-03, -2.22044605e-16])"
      ]
     },
     "execution_count": 37,
     "metadata": {},
     "output_type": "execute_result"
    }
   ],
   "source": [
    "usr_inters1['度假']['出境长线']"
   ]
  },
  {
   "cell_type": "code",
   "execution_count": 30,
   "metadata": {},
   "outputs": [],
   "source": [
    "def func(x,a,b):  \n",
    "    return  b*(a**(x-1))"
   ]
  },
  {
   "cell_type": "code",
   "execution_count": 31,
   "metadata": {},
   "outputs": [],
   "source": [
    "def max_index(sample):\n",
    "    return sample.value_counts().index.max()"
   ]
  },
  {
   "cell_type": "code",
   "execution_count": 32,
   "metadata": {},
   "outputs": [
    {
     "name": "stdout",
     "output_type": "stream",
     "text": [
      "度假*国内长线的参数：a =0.9532165029359166..b=0.6618121882463135\n",
      "度假*周边的参数：a =0.9469899663700325..b=0.5288981746339304\n",
      "度假*其他的参数：a =0.9345533055304496..b=0.5102333091965469\n",
      "度假*出境长线的参数：a =0.958982332122605..b=0.8628901833691923\n",
      "度假*出境短线的参数：a =0.9547336632486573..b=0.7902818206791943\n",
      "单资源*国内长线的参数：a =0.9297454227175311..b=0.48943488056724327\n",
      "单资源*周边的参数：a =0.9312821200153344..b=0.3813359735370496\n",
      "单资源*其他的参数：a =0.9558989479912866..b=0.5043282454988164\n",
      "单资源*出境长线的参数：a =0.9413068665110662..b=0.5523040297149955\n",
      "单资源*出境短线的参数：a =0.9435080061342954..b=0.6387317404996717\n"
     ]
    }
   ],
   "source": [
    "for prd in prdtypes:\n",
    "    for rou in routeclass:\n",
    "        index = max_index(data.loc[(data.route_class_parent_name==prd)&(data.product_line_type_name==rou),'ts'])\n",
    "        x = np.arange(1,index+1)\n",
    "        y = usr_inters1[prd][rou]\n",
    "        popt, pcov = curve_fit(func, x, y)\n",
    "        print(\"{}*{}的参数：a ={}..b={}\".format(prd,rou,popt[0],popt[1]))      "
   ]
  },
  {
   "cell_type": "code",
   "execution_count": 33,
   "metadata": {},
   "outputs": [],
   "source": [
    "sample = data.loc[(data.product_line_type_name=='出境长线')&(data.route_class_parent_name=='度假'),'ts']"
   ]
  },
  {
   "cell_type": "code",
   "execution_count": 34,
   "metadata": {},
   "outputs": [
    {
     "data": {
      "text/plain": [
       "1     877\n",
       "2     291\n",
       "3     199\n",
       "5     149\n",
       "4     136\n",
       "31    113\n",
       "8     110\n",
       "6     110\n",
       "27    109\n",
       "29    108\n",
       "7      96\n",
       "24     93\n",
       "28     91\n",
       "26     90\n",
       "9      89\n",
       "32     87\n",
       "36     87\n",
       "25     86\n",
       "30     86\n",
       "10     85\n",
       "35     84\n",
       "33     80\n",
       "21     80\n",
       "16     78\n",
       "22     75\n",
       "34     74\n",
       "20     73\n",
       "13     73\n",
       "18     72\n",
       "39     71\n",
       "14     68\n",
       "17     68\n",
       "19     68\n",
       "11     66\n",
       "15     66\n",
       "23     65\n",
       "38     65\n",
       "42     63\n",
       "37     61\n",
       "40     61\n",
       "45     59\n",
       "43     59\n",
       "41     58\n",
       "12     55\n",
       "44     54\n",
       "46     49\n",
       "49     48\n",
       "47     47\n",
       "51     47\n",
       "50     46\n",
       "48     42\n",
       "53     35\n",
       "52     34\n",
       "54     30\n",
       "56     17\n",
       "55     15\n",
       "57     11\n",
       "58     10\n",
       "Name: ts, dtype: int64"
      ]
     },
     "execution_count": 34,
     "metadata": {},
     "output_type": "execute_result"
    }
   ],
   "source": [
    "sample.value_counts()"
   ]
  },
  {
   "cell_type": "code",
   "execution_count": 35,
   "metadata": {},
   "outputs": [
    {
     "data": {
      "text/plain": [
       "5219"
      ]
     },
     "execution_count": 35,
     "metadata": {},
     "output_type": "execute_result"
    }
   ],
   "source": [
    "sample.value_counts().sum()"
   ]
  },
  {
   "cell_type": "code",
   "execution_count": 39,
   "metadata": {},
   "outputs": [
    {
     "data": {
      "text/plain": [
       "<Container object of 58 artists>"
      ]
     },
     "execution_count": 39,
     "metadata": {},
     "output_type": "execute_result"
    },
    {
     "data": {
      "image/png": "[encoded data removed]",
      "text/plain": [
       "<matplotlib.figure.Figure at 0x7fb93b02c5f8>"
      ]
     },
     "metadata": {},
     "output_type": "display_data"
    }
   ],
   "source": [
    "\n",
    "plt.bar(sample.value_counts().index,sample.value_counts()/sample.value_counts().sum())"
   ]
  },
  {
   "cell_type": "code",
   "execution_count": null,
   "metadata": {},
   "outputs": [],
   "source": []
  }
 ],
 "metadata": {
  "kernelspec": {
   "display_name": "Python 3",
   "language": "python",
   "name": "python3"
  },
  "language_info": {
   "codemirror_mode": {
    "name": "ipython",
    "version": 3
   },
   "file_extension": ".py",
   "mimetype": "text/x-python",
   "name": "python",
   "nbconvert_exporter": "python",
   "pygments_lexer": "ipython3",
   "version": "3.6.4"
  }
 },
 "nbformat": 4,
 "nbformat_minor": 2
}
