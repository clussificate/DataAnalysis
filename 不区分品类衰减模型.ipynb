{
 "cells": [
  {
   "cell_type": "code",
   "execution_count": 25,
   "metadata": {},
   "outputs": [],
   "source": [
    "import numpy as np\n",
    "import pandas as pd\n",
    "import matplotlib.pyplot as plt\n",
    "%matplotlib inline\n",
    "import os\n",
    "from scipy.optimize import curve_fit"
   ]
  },
  {
   "cell_type": "code",
   "execution_count": 2,
   "metadata": {},
   "outputs": [],
   "source": [
    "data = pd.read_csv('data/ordertraf_all.csv',sep='\\t')"
   ]
  },
  {
   "cell_type": "code",
   "execution_count": 3,
   "metadata": {},
   "outputs": [
    {
     "data": {
      "text/plain": [
       "count    482751.000000\n",
       "mean         12.650511\n",
       "std          15.678099\n",
       "min           1.000000\n",
       "25%           1.000000\n",
       "50%           3.000000\n",
       "75%          24.000000\n",
       "max          59.000000\n",
       "Name: ts, dtype: float64"
      ]
     },
     "execution_count": 3,
     "metadata": {},
     "output_type": "execute_result"
    }
   ],
   "source": [
    "data.ts.describe()"
   ]
  },
  {
   "cell_type": "code",
   "execution_count": 4,
   "metadata": {},
   "outputs": [
    {
     "data": {
      "text/html": [
       "<div>\n",
       "<style scoped>\n",
       "    .dataframe tbody tr th:only-of-type {\n",
       "        vertical-align: middle;\n",
       "    }\n",
       "\n",
       "    .dataframe tbody tr th {\n",
       "        vertical-align: top;\n",
       "    }\n",
       "\n",
       "    .dataframe thead th {\n",
       "        text-align: right;\n",
       "    }\n",
       "</style>\n",
       "<table border=\"1\" class=\"dataframe\">\n",
       "  <thead>\n",
       "    <tr style=\"text-align: right;\">\n",
       "      <th></th>\n",
       "      <th>user_id</th>\n",
       "      <th>create_time</th>\n",
       "      <th>create_time_next</th>\n",
       "      <th>ordertype</th>\n",
       "      <th>ts</th>\n",
       "      <th>freq</th>\n",
       "    </tr>\n",
       "  </thead>\n",
       "  <tbody>\n",
       "    <tr>\n",
       "      <th>0</th>\n",
       "      <td>0</td>\n",
       "      <td>2018-04-13 09:33:23</td>\n",
       "      <td>2018-04-13 11:29:58</td>\n",
       "      <td>3</td>\n",
       "      <td>1</td>\n",
       "      <td>3164</td>\n",
       "    </tr>\n",
       "    <tr>\n",
       "      <th>1</th>\n",
       "      <td>0</td>\n",
       "      <td>2018-04-13 17:56:00</td>\n",
       "      <td>2018-04-15 09:32:28</td>\n",
       "      <td>3</td>\n",
       "      <td>2</td>\n",
       "      <td>41612</td>\n",
       "    </tr>\n",
       "    <tr>\n",
       "      <th>2</th>\n",
       "      <td>10004914</td>\n",
       "      <td>2018-03-27 01:03:12</td>\n",
       "      <td>2018-03-29 19:30:12</td>\n",
       "      <td>3</td>\n",
       "      <td>1</td>\n",
       "      <td>6</td>\n",
       "    </tr>\n",
       "    <tr>\n",
       "      <th>3</th>\n",
       "      <td>10007342</td>\n",
       "      <td>2018-03-30 12:10:05</td>\n",
       "      <td>2018-04-11 15:30:40</td>\n",
       "      <td>3</td>\n",
       "      <td>1</td>\n",
       "      <td>1</td>\n",
       "    </tr>\n",
       "    <tr>\n",
       "      <th>4</th>\n",
       "      <td>10008609</td>\n",
       "      <td>2018-03-29 08:20:24</td>\n",
       "      <td>2018-03-29 10:06:14</td>\n",
       "      <td>3</td>\n",
       "      <td>1</td>\n",
       "      <td>12</td>\n",
       "    </tr>\n",
       "  </tbody>\n",
       "</table>\n",
       "</div>"
      ],
      "text/plain": [
       "    user_id          create_time     create_time_next  ordertype  ts   freq\n",
       "0         0  2018-04-13 09:33:23  2018-04-13 11:29:58          3   1   3164\n",
       "1         0  2018-04-13 17:56:00  2018-04-15 09:32:28          3   2  41612\n",
       "2  10004914  2018-03-27 01:03:12  2018-03-29 19:30:12          3   1      6\n",
       "3  10007342  2018-03-30 12:10:05  2018-04-11 15:30:40          3   1      1\n",
       "4  10008609  2018-03-29 08:20:24  2018-03-29 10:06:14          3   1     12"
      ]
     },
     "execution_count": 4,
     "metadata": {},
     "output_type": "execute_result"
    }
   ],
   "source": [
    "data.head()"
   ]
  },
  {
   "cell_type": "code",
   "execution_count": 5,
   "metadata": {},
   "outputs": [
    {
     "data": {
      "text/plain": [
       "59"
      ]
     },
     "execution_count": 5,
     "metadata": {},
     "output_type": "execute_result"
    }
   ],
   "source": [
    "data.ts.value_counts().index.max()"
   ]
  },
  {
   "cell_type": "markdown",
   "metadata": {},
   "source": [
    "## 时间"
   ]
  },
  {
   "cell_type": "code",
   "execution_count": 3,
   "metadata": {},
   "outputs": [],
   "source": [
    "sample=data.ts\n",
    "max_value = data.ts.value_counts().index.max()\n",
    "ts = np.arange(1,max_value+1)\n",
    "amounts =[]\n",
    "for i in ts:\n",
    "    amount = len(data[data.ts==i])/len(data)\n",
    "    amounts.append(amount)"
   ]
  },
  {
   "cell_type": "code",
   "execution_count": 4,
   "metadata": {},
   "outputs": [
    {
     "data": {
      "text/plain": [
       "<Container object of 59 artists>"
      ]
     },
     "execution_count": 4,
     "metadata": {},
     "output_type": "execute_result"
    },
    {
     "data": {
      "image/png": "[encoded data removed]",
      "text/plain": [
       "<matplotlib.figure.Figure at 0x7f9cfaa4ec18>"
      ]
     },
     "metadata": {},
     "output_type": "display_data"
    }
   ],
   "source": [
    "plt.xlabel(\"days\")\n",
    "plt.ylabel('frequence')\n",
    "plt.bar(ts,amounts)"
   ]
  },
  {
   "cell_type": "code",
   "execution_count": 5,
   "metadata": {},
   "outputs": [],
   "source": [
    "\"\"\"构建兴趣度\"\"\"\n",
    "amount_j = []\n",
    "j=0\n",
    "for i in amounts:\n",
    "    j = j+i\n",
    "    amount_j.append(j)\n",
    "usr_inter = 1-np.array(amount_j)"
   ]
  },
  {
   "cell_type": "code",
   "execution_count": 9,
   "metadata": {},
   "outputs": [
    {
     "data": {
      "text/plain": [
       "[<matplotlib.lines.Line2D at 0x7f9cf9c234e0>]"
      ]
     },
     "execution_count": 9,
     "metadata": {},
     "output_type": "execute_result"
    },
    {
     "data": {
      "image/png": "[encoded data removed]",
      "text/plain": [
       "<matplotlib.figure.Figure at 0x7f9cf9c9eda0>"
      ]
     },
     "metadata": {},
     "output_type": "display_data"
    }
   ],
   "source": [
    "plt.xlabel(\"days\")\n",
    "plt.ylabel('probability')\n",
    "plt.title('CMF')\n",
    "plt.ylim(0,1)\n",
    "plt.plot(ts,amount_j)"
   ]
  },
  {
   "cell_type": "code",
   "execution_count": 10,
   "metadata": {},
   "outputs": [
    {
     "data": {
      "text/plain": [
       "[<matplotlib.lines.Line2D at 0x7f9cf9c38fd0>]"
      ]
     },
     "execution_count": 10,
     "metadata": {},
     "output_type": "execute_result"
    },
    {
     "data": {
      "image/png": "[encoded data removed]",
      "text/plain": [
       "<matplotlib.figure.Figure at 0x7f9cf9c38e10>"
      ]
     },
     "metadata": {},
     "output_type": "display_data"
    }
   ],
   "source": [
    "plt.xlabel(\"days\")\n",
    "plt.ylabel('probability')\n",
    "plt.title('1-CMF')\n",
    "plt.plot(ts,1-np.array(amount_j))"
   ]
  },
  {
   "cell_type": "code",
   "execution_count": 54,
   "metadata": {},
   "outputs": [
    {
     "data": {
      "text/plain": [
       "array([5.75079078e-01, 5.18279610e-01, 4.82111896e-01, 4.55632407e-01,\n",
       "       4.34547002e-01, 4.16699292e-01, 4.00722111e-01, 3.86980037e-01,\n",
       "       3.75038063e-01, 3.64324465e-01, 3.54221949e-01, 3.44850658e-01,\n",
       "       3.35713442e-01, 3.26648728e-01, 3.18209595e-01, 3.10464401e-01,\n",
       "       3.02669492e-01, 2.95087944e-01, 2.87357250e-01, 2.79705272e-01,\n",
       "       2.71694932e-01, 2.63657662e-01, 2.55485747e-01, 2.46897469e-01,\n",
       "       2.37577965e-01, 2.27699166e-01, 2.16836423e-01, 2.05120238e-01,\n",
       "       1.92693542e-01, 1.80935928e-01, 1.68546518e-01, 1.57714847e-01,\n",
       "       1.47210467e-01, 1.37155594e-01, 1.27825732e-01, 1.18510371e-01,\n",
       "       1.09756375e-01, 1.00892593e-01, 9.26067476e-02, 8.44824765e-02,\n",
       "       7.66834248e-02, 6.94395247e-02, 6.22411968e-02, 5.53121589e-02,\n",
       "       4.89320581e-02, 4.28688910e-02, 3.72655883e-02, 3.25095132e-02,\n",
       "       2.78756543e-02, 2.32707959e-02, 1.90243003e-02, 1.52190260e-02,\n",
       "       1.17348281e-02, 8.62142181e-03, 5.92230777e-03, 3.67891522e-03,\n",
       "       1.81045715e-03, 4.57792941e-04, 1.11022302e-16])"
      ]
     },
     "execution_count": 54,
     "metadata": {},
     "output_type": "execute_result"
    }
   ],
   "source": [
    "usr_inter"
   ]
  },
  {
   "cell_type": "code",
   "execution_count": 11,
   "metadata": {},
   "outputs": [],
   "source": [
    "def func(x,a,b):  \n",
    "    return  b*(a**(x-1))"
   ]
  },
  {
   "cell_type": "code",
   "execution_count": 16,
   "metadata": {},
   "outputs": [
    {
     "name": "stdout",
     "output_type": "stream",
     "text": [
      "0.9571553199998191 0.5552143141900808\n"
     ]
    },
    {
     "data": {
      "text/plain": [
       "<matplotlib.legend.Legend at 0x7f9cf7f5aa20>"
      ]
     },
     "execution_count": 16,
     "metadata": {},
     "output_type": "execute_result"
    },
    {
     "data": {
      "image/png": "[encoded data removed]",
      "text/plain": [
       "<matplotlib.figure.Figure at 0x7f9cf7f5bc50>"
      ]
     },
     "metadata": {},
     "output_type": "display_data"
    }
   ],
   "source": [
    "x=ts\n",
    "y=usr_inter\n",
    "plt.plot(x,y,'b-',label='true')  \n",
    "popt, pcov = curve_fit(func, x, y)  \n",
    "#popt数组中，三个值分别是待求参数a,b,c\n",
    "print(popt[0],popt[1])\n",
    "y2 = [func(i, popt[0],popt[1]) for i in x]  \n",
    "plt.plot(x,y2,'r--',label='fitting')\n",
    "plt.title(\" curve fitting\")\n",
    "plt.xlabel(\"days\")\n",
    "plt.ylabel(\"probability\")\n",
    "plt.legend()"
   ]
  },
  {
   "cell_type": "markdown",
   "metadata": {},
   "source": [
    "$y=0.555*(0.957^{x-1})$ "
   ]
  },
  {
   "cell_type": "markdown",
   "metadata": {},
   "source": [
    "## 频次"
   ]
  },
  {
   "cell_type": "code",
   "execution_count": 71,
   "metadata": {},
   "outputs": [
    {
     "data": {
      "text/plain": [
       "102.0"
      ]
     },
     "execution_count": 71,
     "metadata": {},
     "output_type": "execute_result"
    }
   ],
   "source": [
    "data.freq.quantile(0.95)"
   ]
  },
  {
   "cell_type": "code",
   "execution_count": 72,
   "metadata": {},
   "outputs": [],
   "source": [
    "sample=data[data.freq<100]\n",
    "indexes = sample.freq.value_counts().index\n",
    "amounts =[]\n",
    "for i in indexes:\n",
    "    amount = len(sample[sample.freq==i])/len(sample)\n",
    "    amounts.append(amount)"
   ]
  },
  {
   "cell_type": "code",
   "execution_count": 75,
   "metadata": {},
   "outputs": [
    {
     "data": {
      "text/plain": [
       "Text(0.5,1,'The bar chart of pv')"
      ]
     },
     "execution_count": 75,
     "metadata": {},
     "output_type": "execute_result"
    },
    {
     "data": {
      "image/png": "[encoded data removed]",
      "text/plain": [
       "<matplotlib.figure.Figure at 0x7fccdbbebc18>"
      ]
     },
     "metadata": {},
     "output_type": "display_data"
    }
   ],
   "source": [
    "plt.bar(indexes,amounts)\n",
    "plt.xlabel('pv')\n",
    "plt.ylabel('frequence')\n",
    "plt.title(\"The bar chart of pv\")"
   ]
  },
  {
   "cell_type": "code",
   "execution_count": 77,
   "metadata": {},
   "outputs": [],
   "source": [
    "\"\"\"\n",
    "频次兴趣度\n",
    "\"\"\"\n",
    "amount_j =0\n",
    "amounts_j=[]\n",
    "indexes =  sample.freq.value_counts().index.max()\n",
    "for i in np.arange(1,indexes+1):\n",
    "    amount = len(sample[sample.freq==i])/len(sample)\n",
    "    amount_j = amount+amount_j\n",
    "    amounts_j.append(amount_j)\n",
    "    "
   ]
  },
  {
   "cell_type": "code",
   "execution_count": 79,
   "metadata": {},
   "outputs": [],
   "source": [
    "amounts_int = 1- np.array(amounts_j)"
   ]
  },
  {
   "cell_type": "code",
   "execution_count": 118,
   "metadata": {},
   "outputs": [
    {
     "data": {
      "text/plain": [
       "25"
      ]
     },
     "execution_count": 118,
     "metadata": {},
     "output_type": "execute_result"
    }
   ],
   "source": [
    "sum(np.array(amounts_j)<0.8)"
   ]
  },
  {
   "cell_type": "code",
   "execution_count": 91,
   "metadata": {},
   "outputs": [],
   "source": [
    "\"\"\"\n",
    "model1 : 考虑第一天与其他天相同\n",
    "\"\"\"\n",
    "def func(x,a):  \n",
    "    return  (a**(x))"
   ]
  },
  {
   "cell_type": "code",
   "execution_count": 92,
   "metadata": {},
   "outputs": [
    {
     "name": "stdout",
     "output_type": "stream",
     "text": [
      "0.93195455008438\n"
     ]
    },
    {
     "data": {
      "text/plain": [
       "[<matplotlib.lines.Line2D at 0x7fccdb958c50>]"
      ]
     },
     "execution_count": 92,
     "metadata": {},
     "output_type": "execute_result"
    },
    {
     "data": {
      "image/png": "[encoded data removed]",
      "text/plain": [
       "<matplotlib.figure.Figure at 0x7fccdb9e1898>"
      ]
     },
     "metadata": {},
     "output_type": "display_data"
    }
   ],
   "source": [
    "x=np.arange(1,indexes+1)\n",
    "y=amounts_int\n",
    "plt.plot(x,y,'b-')  \n",
    "popt, pcov = curve_fit(func, x, y)  \n",
    "#popt数组中，三个值分别是待求参数a,b,c\n",
    "print(popt[0])\n",
    "y2 = [func(i, popt[0]) for i in x]  \n",
    "plt.plot(x,y2,'r--')"
   ]
  },
  {
   "cell_type": "code",
   "execution_count": 106,
   "metadata": {},
   "outputs": [],
   "source": [
    "\"\"\"\n",
    "model2 : 考虑第一天与其他天不同,且b为常数项\n",
    "\"\"\"\n",
    "def func(x,a):\n",
    "    return  0.85*(a**(x-1))"
   ]
  },
  {
   "cell_type": "code",
   "execution_count": 107,
   "metadata": {},
   "outputs": [
    {
     "name": "stdout",
     "output_type": "stream",
     "text": [
      "0.9403373583065207\n"
     ]
    },
    {
     "data": {
      "text/plain": [
       "[<matplotlib.lines.Line2D at 0x7fccdba433c8>]"
      ]
     },
     "execution_count": 107,
     "metadata": {},
     "output_type": "execute_result"
    },
    {
     "data": {
      "image/png": "[encoded data removed]",
      "text/plain": [
       "<matplotlib.figure.Figure at 0x7fccdba43240>"
      ]
     },
     "metadata": {},
     "output_type": "display_data"
    }
   ],
   "source": [
    "x=np.arange(1,indexes+1)\n",
    "y=amounts_int\n",
    "plt.plot(x,y,'b-')  \n",
    "popt, pcov = curve_fit(func, x, y)  \n",
    "#popt数组中，三个值分别是待求参数a,b,c\n",
    "print(popt[0])\n",
    "y2 = [func(i, popt[0]) for i in x]  \n",
    "plt.plot(x,y2,'r--')"
   ]
  },
  {
   "cell_type": "code",
   "execution_count": 108,
   "metadata": {},
   "outputs": [],
   "source": [
    "\"\"\"\n",
    "model3 : 考虑第一天与其他天不同,且b为参数\n",
    "\"\"\"\n",
    "def func(x,a,b):\n",
    "    return  b*(a**(x-1))"
   ]
  },
  {
   "cell_type": "code",
   "execution_count": 109,
   "metadata": {},
   "outputs": [
    {
     "name": "stdout",
     "output_type": "stream",
     "text": [
      "0.9508399706925509 0.7137648293899425\n"
     ]
    },
    {
     "data": {
      "text/plain": [
       "[<matplotlib.lines.Line2D at 0x7fccdbaa3c50>]"
      ]
     },
     "execution_count": 109,
     "metadata": {},
     "output_type": "execute_result"
    },
    {
     "data": {
      "image/png": "[encoded data removed]",
      "text/plain": [
       "<matplotlib.figure.Figure at 0x7fccdbaa3828>"
      ]
     },
     "metadata": {},
     "output_type": "display_data"
    }
   ],
   "source": [
    "x=np.arange(1,indexes+1)\n",
    "y=amounts_int\n",
    "plt.plot(x,y,'b-')  \n",
    "popt, pcov = curve_fit(func, x, y)  \n",
    "#popt数组中，三个值分别是待求参数a,b,c\n",
    "print(popt[0],popt[1])\n",
    "y2 = [func(i, popt[0],popt[1]) for i in x]  \n",
    "plt.plot(x,y2,'r--')"
   ]
  },
  {
   "cell_type": "markdown",
   "metadata": {},
   "source": [
    "$y=b*a^{x-1}$"
   ]
  },
  {
   "cell_type": "code",
   "execution_count": 23,
   "metadata": {},
   "outputs": [
    {
     "data": {
      "text/plain": [
       "0.3486784401000001"
      ]
     },
     "execution_count": 23,
     "metadata": {},
     "output_type": "execute_result"
    }
   ],
   "source": [
    "0.9**10"
   ]
  },
  {
   "cell_type": "code",
   "execution_count": 29,
   "metadata": {},
   "outputs": [
    {
     "data": {
      "text/plain": [
       "[<matplotlib.lines.Line2D at 0x7f346bb92be0>]"
      ]
     },
     "execution_count": 29,
     "metadata": {},
     "output_type": "execute_result"
    },
    {
     "data": {
      "image/png": "[encoded data removed]",
      "text/plain": [
       "<matplotlib.figure.Figure at 0x7f346bb92588>"
      ]
     },
     "metadata": {},
     "output_type": "display_data"
    }
   ],
   "source": [
    "y1 = [0.9**i  for i in range(1,61)]\n",
    "y2 = [0.713*0.95**(i-1) for i in range(1,61)]\n",
    "plt.plot(range(1,61),y1,'b--')\n",
    "plt.plot(range(1,61),y2,'g--')"
   ]
  },
  {
   "cell_type": "code",
   "execution_count": null,
   "metadata": {},
   "outputs": [],
   "source": []
  }
 ],
 "metadata": {
  "kernelspec": {
   "display_name": "Python 3",
   "language": "python",
   "name": "python3"
  },
  "language_info": {
   "codemirror_mode": {
    "name": "ipython",
    "version": 3
   },
   "file_extension": ".py",
   "mimetype": "text/x-python",
   "name": "python",
   "nbconvert_exporter": "python",
   "pygments_lexer": "ipython3",
   "version": "3.6.4"
  }
 },
 "nbformat": 4,
 "nbformat_minor": 2
}
