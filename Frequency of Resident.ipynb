{
 "cells": [
  {
   "cell_type": "code",
   "execution_count": 165,
   "metadata": {},
   "outputs": [],
   "source": [
    "import numpy as np\n",
    "import pandas as pd\n",
    "import matplotlib.pyplot as plt\n",
    "%matplotlib inline\n",
    "import os"
   ]
  },
  {
   "cell_type": "code",
   "execution_count": 166,
   "metadata": {},
   "outputs": [
    {
     "data": {
      "text/plain": [
       "'\\ndata/ordertraf_final.csv   存放用户在下单前，对该物品的关注天数信息（犹豫期）ts  \\ndata/ordertraf_count.csv   存放用户在下单前，对该物品的浏览次数信息 freq  \\n\\n\\n为减少极值影响，认为占用户数0.95percentile是衰减周期，  \\n例：若0.95的用户关注天数为10天，则该类物品在下单前一般浏览时间不超过10天,超过10天则兴趣度降为零\\n同样地，若0.95的用户浏览次数为20次，则该类物品在下单前一般浏览次数不超过20次  \\n\\npercentile 设置对应参数 a  \\n'"
      ]
     },
     "execution_count": 166,
     "metadata": {},
     "output_type": "execute_result"
    }
   ],
   "source": [
    "\"\"\"\n",
    "data/ordertraf_final.csv   存放用户在下单前，对该物品的关注天数信息（犹豫期）ts  \n",
    "data/ordertraf_count.csv   存放用户在下单前，对该物品的浏览次数信息 freq  \n",
    "\n",
    "\n",
    "为减少极值影响，认为占用户数0.95percentile是衰减周期，  \n",
    "例：若0.95的用户关注天数为10天，则该类物品在下单前一般浏览时间不超过10天,超过10天则兴趣度降为零\n",
    "同样地，若0.95的用户浏览次数为20次，则该类物品在下单前一般浏览次数不超过20次  \n",
    "\n",
    "percentile 设置对应参数 a  \n",
    "\"\"\"  "
   ]
  },
  {
   "cell_type": "code",
   "execution_count": 167,
   "metadata": {},
   "outputs": [],
   "source": [
    "data = pd.read_csv('data/ordertraf_final.csv',sep='\\t')"
   ]
  },
  {
   "cell_type": "code",
   "execution_count": 168,
   "metadata": {},
   "outputs": [
    {
     "data": {
      "text/html": [
       "<div>\n",
       "<style scoped>\n",
       "    .dataframe tbody tr th:only-of-type {\n",
       "        vertical-align: middle;\n",
       "    }\n",
       "\n",
       "    .dataframe tbody tr th {\n",
       "        vertical-align: top;\n",
       "    }\n",
       "\n",
       "    .dataframe thead th {\n",
       "        text-align: right;\n",
       "    }\n",
       "</style>\n",
       "<table border=\"1\" class=\"dataframe\">\n",
       "  <thead>\n",
       "    <tr style=\"text-align: right;\">\n",
       "      <th></th>\n",
       "      <th>cust_id</th>\n",
       "      <th>route_id</th>\n",
       "      <th>num</th>\n",
       "      <th>max_create_time</th>\n",
       "      <th>first_brow</th>\n",
       "      <th>last_brow</th>\n",
       "      <th>ts</th>\n",
       "      <th>freq</th>\n",
       "      <th>route_name</th>\n",
       "      <th>product_line_type_name</th>\n",
       "      <th>route_class_parent_name</th>\n",
       "    </tr>\n",
       "  </thead>\n",
       "  <tbody>\n",
       "    <tr>\n",
       "      <th>0</th>\n",
       "      <td>75515305</td>\n",
       "      <td>210016087</td>\n",
       "      <td>1</td>\n",
       "      <td>2018-04-07 20:40:36</td>\n",
       "      <td>2018-04-07 20:35:53.94</td>\n",
       "      <td>2018-04-07 20:37:11.762</td>\n",
       "      <td>1</td>\n",
       "      <td>2</td>\n",
       "      <td>&lt;常州恐龙园-迪诺水镇1日游&gt;含恐龙园大门票,纯玩无购物,一票畅玩</td>\n",
       "      <td>周边</td>\n",
       "      <td>跟团游</td>\n",
       "    </tr>\n",
       "    <tr>\n",
       "      <th>1</th>\n",
       "      <td>74857970</td>\n",
       "      <td>210016087</td>\n",
       "      <td>1</td>\n",
       "      <td>2018-04-10 21:30:30</td>\n",
       "      <td>2018-03-22 10:23:11.435</td>\n",
       "      <td>2018-04-10 21:26:44.63</td>\n",
       "      <td>20</td>\n",
       "      <td>8</td>\n",
       "      <td>&lt;常州恐龙园-迪诺水镇1日游&gt;含恐龙园大门票,纯玩无购物,一票畅玩</td>\n",
       "      <td>周边</td>\n",
       "      <td>跟团游</td>\n",
       "    </tr>\n",
       "    <tr>\n",
       "      <th>2</th>\n",
       "      <td>67858701</td>\n",
       "      <td>210016465</td>\n",
       "      <td>1</td>\n",
       "      <td>2018-03-29 15:54:51</td>\n",
       "      <td>2018-03-29 22:55:43.558</td>\n",
       "      <td>2018-03-29 23:00:31.626</td>\n",
       "      <td>1</td>\n",
       "      <td>2</td>\n",
       "      <td>&lt;张家界大峡谷玻璃桥-宝峰湖-天门山-凤凰汽车4日游&gt;晚上出发 玩转神秘湘西 走2条心跳玻璃...</td>\n",
       "      <td>周边</td>\n",
       "      <td>跟团游</td>\n",
       "    </tr>\n",
       "    <tr>\n",
       "      <th>3</th>\n",
       "      <td>75440557</td>\n",
       "      <td>210016681</td>\n",
       "      <td>1</td>\n",
       "      <td>2018-04-04 17:57:39</td>\n",
       "      <td>2018-04-04 11:54:05.369</td>\n",
       "      <td>2018-04-04 17:35:52.584</td>\n",
       "      <td>1</td>\n",
       "      <td>4</td>\n",
       "      <td>&lt;南澳西冲1日游&gt;西冲快艇 杨梅坑环海骑行,海边烧烤引爆味蕾的舌尖体验、海边戏水游玩</td>\n",
       "      <td>周边</td>\n",
       "      <td>跟团游</td>\n",
       "    </tr>\n",
       "    <tr>\n",
       "      <th>4</th>\n",
       "      <td>7000056</td>\n",
       "      <td>210016681</td>\n",
       "      <td>1</td>\n",
       "      <td>2018-04-03 17:18:50</td>\n",
       "      <td>2018-04-05 11:19:48.652</td>\n",
       "      <td>2018-04-05 11:29:58.757</td>\n",
       "      <td>0</td>\n",
       "      <td>4</td>\n",
       "      <td>&lt;南澳西冲1日游&gt;西冲快艇 杨梅坑环海骑行,海边烧烤引爆味蕾的舌尖体验、海边戏水游玩</td>\n",
       "      <td>周边</td>\n",
       "      <td>跟团游</td>\n",
       "    </tr>\n",
       "  </tbody>\n",
       "</table>\n",
       "</div>"
      ],
      "text/plain": [
       "    cust_id   route_id  num      max_create_time               first_brow  \\\n",
       "0  75515305  210016087    1  2018-04-07 20:40:36   2018-04-07 20:35:53.94   \n",
       "1  74857970  210016087    1  2018-04-10 21:30:30  2018-03-22 10:23:11.435   \n",
       "2  67858701  210016465    1  2018-03-29 15:54:51  2018-03-29 22:55:43.558   \n",
       "3  75440557  210016681    1  2018-04-04 17:57:39  2018-04-04 11:54:05.369   \n",
       "4   7000056  210016681    1  2018-04-03 17:18:50  2018-04-05 11:19:48.652   \n",
       "\n",
       "                 last_brow  ts  freq  \\\n",
       "0  2018-04-07 20:37:11.762   1     2   \n",
       "1   2018-04-10 21:26:44.63  20     8   \n",
       "2  2018-03-29 23:00:31.626   1     2   \n",
       "3  2018-04-04 17:35:52.584   1     4   \n",
       "4  2018-04-05 11:29:58.757   0     4   \n",
       "\n",
       "                                          route_name product_line_type_name  \\\n",
       "0                  <常州恐龙园-迪诺水镇1日游>含恐龙园大门票,纯玩无购物,一票畅玩                     周边   \n",
       "1                  <常州恐龙园-迪诺水镇1日游>含恐龙园大门票,纯玩无购物,一票畅玩                     周边   \n",
       "2  <张家界大峡谷玻璃桥-宝峰湖-天门山-凤凰汽车4日游>晚上出发 玩转神秘湘西 走2条心跳玻璃...                     周边   \n",
       "3         <南澳西冲1日游>西冲快艇 杨梅坑环海骑行,海边烧烤引爆味蕾的舌尖体验、海边戏水游玩                     周边   \n",
       "4         <南澳西冲1日游>西冲快艇 杨梅坑环海骑行,海边烧烤引爆味蕾的舌尖体验、海边戏水游玩                     周边   \n",
       "\n",
       "  route_class_parent_name  \n",
       "0                     跟团游  \n",
       "1                     跟团游  \n",
       "2                     跟团游  \n",
       "3                     跟团游  \n",
       "4                     跟团游  "
      ]
     },
     "execution_count": 168,
     "metadata": {},
     "output_type": "execute_result"
    }
   ],
   "source": [
    "data.head()"
   ]
  },
  {
   "cell_type": "markdown",
   "metadata": {},
   "source": [
    "# 犹豫期ts分布"
   ]
  },
  {
   "cell_type": "code",
   "execution_count": 169,
   "metadata": {},
   "outputs": [],
   "source": [
    "# ppercentile\n",
    "\n",
    "a = 0.95"
   ]
  },
  {
   "cell_type": "markdown",
   "metadata": {},
   "source": [
    "### 一级品类"
   ]
  },
  {
   "cell_type": "code",
   "execution_count": 170,
   "metadata": {},
   "outputs": [],
   "source": [
    "gt = data.loc[(data.route_class_parent_name=='跟团游')&(data.ts>0),'ts']"
   ]
  },
  {
   "cell_type": "code",
   "execution_count": 171,
   "metadata": {},
   "outputs": [
    {
     "data": {
      "text/plain": [
       "count    54959.000000\n",
       "mean         4.384960\n",
       "std          8.208173\n",
       "min          1.000000\n",
       "25%          1.000000\n",
       "50%          1.000000\n",
       "75%          3.000000\n",
       "max         59.000000\n",
       "Name: ts, dtype: float64"
      ]
     },
     "execution_count": 171,
     "metadata": {},
     "output_type": "execute_result"
    }
   ],
   "source": [
    "gt.describe()"
   ]
  },
  {
   "cell_type": "code",
   "execution_count": 172,
   "metadata": {},
   "outputs": [
    {
     "data": {
      "text/plain": [
       "24.0"
      ]
     },
     "execution_count": 172,
     "metadata": {},
     "output_type": "execute_result"
    }
   ],
   "source": [
    "gt.quantile(a)"
   ]
  },
  {
   "cell_type": "code",
   "execution_count": 173,
   "metadata": {},
   "outputs": [],
   "source": [
    "zz = data.loc[(data.route_class_parent_name=='自助游')&(data.ts>0),'ts']"
   ]
  },
  {
   "cell_type": "code",
   "execution_count": 174,
   "metadata": {},
   "outputs": [
    {
     "data": {
      "text/plain": [
       "count    6133.000000\n",
       "mean        4.663460\n",
       "std         8.468654\n",
       "min         1.000000\n",
       "25%         1.000000\n",
       "50%         1.000000\n",
       "75%         3.000000\n",
       "max        58.000000\n",
       "Name: ts, dtype: float64"
      ]
     },
     "execution_count": 174,
     "metadata": {},
     "output_type": "execute_result"
    }
   ],
   "source": [
    "zz.describe()"
   ]
  },
  {
   "cell_type": "code",
   "execution_count": 175,
   "metadata": {},
   "outputs": [
    {
     "data": {
      "text/plain": [
       "24.0"
      ]
     },
     "execution_count": 175,
     "metadata": {},
     "output_type": "execute_result"
    }
   ],
   "source": [
    "zz.quantile(a)"
   ]
  },
  {
   "cell_type": "code",
   "execution_count": 176,
   "metadata": {},
   "outputs": [],
   "source": [
    "zj = data.loc[(data.route_class_parent_name=='自驾游')&(data.ts>0),'ts']"
   ]
  },
  {
   "cell_type": "code",
   "execution_count": 177,
   "metadata": {},
   "outputs": [
    {
     "data": {
      "text/plain": [
       "count    4429.000000\n",
       "mean        2.973583\n",
       "std         6.201085\n",
       "min         1.000000\n",
       "25%         1.000000\n",
       "50%         1.000000\n",
       "75%         1.000000\n",
       "max        57.000000\n",
       "Name: ts, dtype: float64"
      ]
     },
     "execution_count": 177,
     "metadata": {},
     "output_type": "execute_result"
    }
   ],
   "source": [
    "zj.describe()"
   ]
  },
  {
   "cell_type": "code",
   "execution_count": 178,
   "metadata": {},
   "outputs": [
    {
     "data": {
      "text/plain": [
       "13.0"
      ]
     },
     "execution_count": 178,
     "metadata": {},
     "output_type": "execute_result"
    }
   ],
   "source": [
    "zj.quantile(a)"
   ]
  },
  {
   "cell_type": "markdown",
   "metadata": {},
   "source": [
    "### 目的地大类"
   ]
  },
  {
   "cell_type": "code",
   "execution_count": 179,
   "metadata": {},
   "outputs": [],
   "source": [
    "cc = data.loc[(data.product_line_type_name=='出境长线')&(data.ts>0),'ts']"
   ]
  },
  {
   "cell_type": "code",
   "execution_count": 180,
   "metadata": {},
   "outputs": [
    {
     "data": {
      "text/plain": [
       "count    4276.000000\n",
       "mean        8.149205\n",
       "std        12.096327\n",
       "min         1.000000\n",
       "25%         1.000000\n",
       "50%         1.000000\n",
       "75%        10.000000\n",
       "max        57.000000\n",
       "Name: ts, dtype: float64"
      ]
     },
     "execution_count": 180,
     "metadata": {},
     "output_type": "execute_result"
    }
   ],
   "source": [
    "cc.describe()"
   ]
  },
  {
   "cell_type": "code",
   "execution_count": 181,
   "metadata": {},
   "outputs": [
    {
     "data": {
      "text/plain": [
       "36.0"
      ]
     },
     "execution_count": 181,
     "metadata": {},
     "output_type": "execute_result"
    }
   ],
   "source": [
    "cc.quantile(a)"
   ]
  },
  {
   "cell_type": "code",
   "execution_count": 182,
   "metadata": {},
   "outputs": [],
   "source": [
    "cd = data.loc[(data.product_line_type_name=='出境短线')&(data.ts>0),'ts']"
   ]
  },
  {
   "cell_type": "code",
   "execution_count": 183,
   "metadata": {},
   "outputs": [
    {
     "data": {
      "text/plain": [
       "count    9865.000000\n",
       "mean        5.718804\n",
       "std         9.583479\n",
       "min         1.000000\n",
       "25%         1.000000\n",
       "50%         1.000000\n",
       "75%         5.000000\n",
       "max        58.000000\n",
       "Name: ts, dtype: float64"
      ]
     },
     "execution_count": 183,
     "metadata": {},
     "output_type": "execute_result"
    }
   ],
   "source": [
    "cd.describe()"
   ]
  },
  {
   "cell_type": "code",
   "execution_count": 184,
   "metadata": {},
   "outputs": [
    {
     "data": {
      "text/plain": [
       "28.0"
      ]
     },
     "execution_count": 184,
     "metadata": {},
     "output_type": "execute_result"
    }
   ],
   "source": [
    "cd.quantile(a)"
   ]
  },
  {
   "cell_type": "code",
   "execution_count": 185,
   "metadata": {},
   "outputs": [],
   "source": [
    "gc = data.loc[(data.product_line_type_name=='国内长线')&(data.ts>0),'ts']"
   ]
  },
  {
   "cell_type": "code",
   "execution_count": 186,
   "metadata": {},
   "outputs": [
    {
     "data": {
      "text/plain": [
       "count    17693.000000\n",
       "mean         4.125586\n",
       "std          7.862783\n",
       "min          1.000000\n",
       "25%          1.000000\n",
       "50%          1.000000\n",
       "75%          3.000000\n",
       "max         58.000000\n",
       "Name: ts, dtype: float64"
      ]
     },
     "execution_count": 186,
     "metadata": {},
     "output_type": "execute_result"
    }
   ],
   "source": [
    "gc.describe()"
   ]
  },
  {
   "cell_type": "code",
   "execution_count": 187,
   "metadata": {},
   "outputs": [
    {
     "data": {
      "text/plain": [
       "22.0"
      ]
     },
     "execution_count": 187,
     "metadata": {},
     "output_type": "execute_result"
    }
   ],
   "source": [
    "gc.quantile(a)"
   ]
  },
  {
   "cell_type": "code",
   "execution_count": 188,
   "metadata": {},
   "outputs": [],
   "source": [
    "zb = data.loc[(data.product_line_type_name=='周边')&(data.ts>0),'ts']"
   ]
  },
  {
   "cell_type": "code",
   "execution_count": 189,
   "metadata": {},
   "outputs": [
    {
     "data": {
      "text/plain": [
       "count    32488.000000\n",
       "mean         3.540230\n",
       "std          6.908648\n",
       "min          1.000000\n",
       "25%          1.000000\n",
       "50%          1.000000\n",
       "75%          2.000000\n",
       "max         59.000000\n",
       "Name: ts, dtype: float64"
      ]
     },
     "execution_count": 189,
     "metadata": {},
     "output_type": "execute_result"
    }
   ],
   "source": [
    "zb.describe()"
   ]
  },
  {
   "cell_type": "code",
   "execution_count": 190,
   "metadata": {},
   "outputs": [
    {
     "data": {
      "text/plain": [
       "18.0"
      ]
     },
     "execution_count": 190,
     "metadata": {},
     "output_type": "execute_result"
    }
   ],
   "source": [
    "zb.quantile(a)"
   ]
  },
  {
   "cell_type": "markdown",
   "metadata": {},
   "source": [
    "## 交叉维度"
   ]
  },
  {
   "cell_type": "code",
   "execution_count": 191,
   "metadata": {},
   "outputs": [],
   "source": [
    "routetypes = ['出境长线','出境短线','国内长线','周边']\n",
    "producttypes=['跟团游','自助游','自驾游']"
   ]
  },
  {
   "cell_type": "code",
   "execution_count": 193,
   "metadata": {},
   "outputs": [
    {
     "name": "stdout",
     "output_type": "stream",
     "text": [
      "-------出境长线+跟团游--------\n",
      "count    3871.000000\n",
      "mean        8.352880\n",
      "std        12.286313\n",
      "min         1.000000\n",
      "25%         1.000000\n",
      "50%         1.000000\n",
      "75%        11.000000\n",
      "max        57.000000\n",
      "Name: ts, dtype: float64\n",
      " \n",
      "0.95分位数： 37.0\n",
      " \n",
      "-------出境长线+自助游--------\n",
      "count    325.000000\n",
      "mean       6.593846\n",
      "std       10.303779\n",
      "min        1.000000\n",
      "25%        1.000000\n",
      "50%        1.000000\n",
      "75%        7.000000\n",
      "max       45.000000\n",
      "Name: ts, dtype: float64\n",
      " \n",
      "0.95分位数： 30.80000000000001\n",
      " \n",
      "-------出境长线+自驾游--------\n",
      "count     2.000000\n",
      "mean      9.000000\n",
      "std      11.313708\n",
      "min       1.000000\n",
      "25%       5.000000\n",
      "50%       9.000000\n",
      "75%      13.000000\n",
      "max      17.000000\n",
      "Name: ts, dtype: float64\n",
      " \n",
      "0.95分位数： 16.2\n",
      " \n",
      "-------出境短线+跟团游--------\n",
      "count    7004.000000\n",
      "mean        5.736722\n",
      "std         9.752635\n",
      "min         1.000000\n",
      "25%         1.000000\n",
      "50%         1.000000\n",
      "75%         5.000000\n",
      "max        58.000000\n",
      "Name: ts, dtype: float64\n",
      " \n",
      "0.95分位数： 29.0\n",
      " \n",
      "-------出境短线+自助游--------\n",
      "count    1751.000000\n",
      "mean        6.264991\n",
      "std         9.869869\n",
      "min         1.000000\n",
      "25%         1.000000\n",
      "50%         1.000000\n",
      "75%         7.000000\n",
      "max        55.000000\n",
      "Name: ts, dtype: float64\n",
      " \n",
      "0.95分位数： 28.5\n",
      " \n",
      "-------出境短线+自驾游--------\n",
      "count    0.0\n",
      "mean     NaN\n",
      "std      NaN\n",
      "min      NaN\n",
      "25%      NaN\n",
      "50%      NaN\n",
      "75%      NaN\n",
      "max      NaN\n",
      "Name: ts, dtype: float64\n",
      " \n",
      "0.95分位数： nan\n",
      " \n",
      "-------国内长线+跟团游--------\n",
      "count    14629.000000\n",
      "mean         4.175405\n",
      "std          7.904483\n",
      "min          1.000000\n",
      "25%          1.000000\n",
      "50%          1.000000\n",
      "75%          3.000000\n",
      "max         58.000000\n",
      "Name: ts, dtype: float64\n",
      " \n",
      "0.95分位数： 22.0\n",
      " \n",
      "-------国内长线+自助游--------\n",
      "count    2925.000000\n",
      "mean        3.910085\n",
      "std         7.701674\n",
      "min         1.000000\n",
      "25%         1.000000\n",
      "50%         1.000000\n",
      "75%         2.000000\n",
      "max        58.000000\n",
      "Name: ts, dtype: float64\n",
      " \n",
      "0.95分位数： 20.0\n",
      " \n",
      "-------国内长线+自驾游--------\n",
      "count    0.0\n",
      "mean     NaN\n",
      "std      NaN\n",
      "min      NaN\n",
      "25%      NaN\n",
      "50%      NaN\n",
      "75%      NaN\n",
      "max      NaN\n",
      "Name: ts, dtype: float64\n",
      " \n",
      "0.95分位数： nan\n",
      " \n",
      "-------周边+跟团游--------\n",
      "count    26904.000000\n",
      "mean         3.633029\n",
      "std          7.018150\n",
      "min          1.000000\n",
      "25%          1.000000\n",
      "50%          1.000000\n",
      "75%          2.000000\n",
      "max         59.000000\n",
      "Name: ts, dtype: float64\n",
      " \n",
      "0.95分位数： 19.0\n",
      " \n",
      "-------周边+自助游--------\n",
      "count    1132.000000\n",
      "mean        3.578622\n",
      "std         6.830524\n",
      "min         1.000000\n",
      "25%         1.000000\n",
      "50%         1.000000\n",
      "75%         2.000000\n",
      "max        54.000000\n",
      "Name: ts, dtype: float64\n",
      " \n",
      "0.95分位数： 19.0\n",
      " \n",
      "-------周边+自驾游--------\n",
      "count    4427.000000\n",
      "mean        2.970861\n",
      "std         6.198830\n",
      "min         1.000000\n",
      "25%         1.000000\n",
      "50%         1.000000\n",
      "75%         1.000000\n",
      "max        57.000000\n",
      "Name: ts, dtype: float64\n",
      " \n",
      "0.95分位数： 13.0\n",
      " \n"
     ]
    }
   ],
   "source": [
    "for route in routetypes:\n",
    "    for product in producttypes:\n",
    "        sample = data.loc[(data.product_line_type_name==route)&(data.route_class_parent_name==product)&(data.ts>0),'ts']\n",
    "        print(\"-------{0}+{1}--------\".format(route, product))\n",
    "        print(sample.describe())\n",
    "        print(\" \")\n",
    "        print('{0}分位数：'.format(a),sample.quantile(a))\n",
    "        print(\" \")"
   ]
  },
  {
   "cell_type": "markdown",
   "metadata": {},
   "source": [
    "# 关注频次分布"
   ]
  },
  {
   "cell_type": "markdown",
   "metadata": {},
   "source": [
    "## 单维度"
   ]
  },
  {
   "cell_type": "code",
   "execution_count": 153,
   "metadata": {},
   "outputs": [],
   "source": [
    "data = pd.read_csv('data/ordertraf_count.csv',sep='\\t')"
   ]
  },
  {
   "cell_type": "code",
   "execution_count": 154,
   "metadata": {},
   "outputs": [
    {
     "data": {
      "text/html": [
       "<div>\n",
       "<style scoped>\n",
       "    .dataframe tbody tr th:only-of-type {\n",
       "        vertical-align: middle;\n",
       "    }\n",
       "\n",
       "    .dataframe tbody tr th {\n",
       "        vertical-align: top;\n",
       "    }\n",
       "\n",
       "    .dataframe thead th {\n",
       "        text-align: right;\n",
       "    }\n",
       "</style>\n",
       "<table border=\"1\" class=\"dataframe\">\n",
       "  <thead>\n",
       "    <tr style=\"text-align: right;\">\n",
       "      <th></th>\n",
       "      <th>cust_id</th>\n",
       "      <th>route_id</th>\n",
       "      <th>freq</th>\n",
       "      <th>route_name</th>\n",
       "      <th>product_line_type_name</th>\n",
       "      <th>route_class_parent_name</th>\n",
       "    </tr>\n",
       "  </thead>\n",
       "  <tbody>\n",
       "    <tr>\n",
       "      <th>0</th>\n",
       "      <td>75266130</td>\n",
       "      <td>5037407</td>\n",
       "      <td>1</td>\n",
       "      <td>锦江之星(北京后海店)</td>\n",
       "      <td>境内</td>\n",
       "      <td>酒店</td>\n",
       "    </tr>\n",
       "    <tr>\n",
       "      <th>1</th>\n",
       "      <td>75470414</td>\n",
       "      <td>5037407</td>\n",
       "      <td>6</td>\n",
       "      <td>锦江之星(北京后海店)</td>\n",
       "      <td>境内</td>\n",
       "      <td>酒店</td>\n",
       "    </tr>\n",
       "    <tr>\n",
       "      <th>2</th>\n",
       "      <td>75560922</td>\n",
       "      <td>5037407</td>\n",
       "      <td>1</td>\n",
       "      <td>锦江之星(北京后海店)</td>\n",
       "      <td>境内</td>\n",
       "      <td>酒店</td>\n",
       "    </tr>\n",
       "    <tr>\n",
       "      <th>3</th>\n",
       "      <td>75464075</td>\n",
       "      <td>5037664</td>\n",
       "      <td>1</td>\n",
       "      <td>如家快捷酒店(北京联想桥店)</td>\n",
       "      <td>境内</td>\n",
       "      <td>酒店</td>\n",
       "    </tr>\n",
       "    <tr>\n",
       "      <th>4</th>\n",
       "      <td>74862224</td>\n",
       "      <td>5038733</td>\n",
       "      <td>1</td>\n",
       "      <td>如家快捷酒店(上海新国际博览中心民生路杨高中路地铁站店)</td>\n",
       "      <td>境内</td>\n",
       "      <td>酒店</td>\n",
       "    </tr>\n",
       "  </tbody>\n",
       "</table>\n",
       "</div>"
      ],
      "text/plain": [
       "    cust_id  route_id  freq                    route_name  \\\n",
       "0  75266130   5037407     1                   锦江之星(北京后海店)   \n",
       "1  75470414   5037407     6                   锦江之星(北京后海店)   \n",
       "2  75560922   5037407     1                   锦江之星(北京后海店)   \n",
       "3  75464075   5037664     1                如家快捷酒店(北京联想桥店)   \n",
       "4  74862224   5038733     1  如家快捷酒店(上海新国际博览中心民生路杨高中路地铁站店)   \n",
       "\n",
       "  product_line_type_name route_class_parent_name  \n",
       "0                     境内                      酒店  \n",
       "1                     境内                      酒店  \n",
       "2                     境内                      酒店  \n",
       "3                     境内                      酒店  \n",
       "4                     境内                      酒店  "
      ]
     },
     "execution_count": 154,
     "metadata": {},
     "output_type": "execute_result"
    }
   ],
   "source": [
    "data.head()"
   ]
  },
  {
   "cell_type": "code",
   "execution_count": 155,
   "metadata": {},
   "outputs": [
    {
     "name": "stdout",
     "output_type": "stream",
     "text": [
      "count    47339.000000\n",
      "mean         6.597267\n",
      "std          9.817231\n",
      "min          1.000000\n",
      "25%          2.000000\n",
      "50%          4.000000\n",
      "75%          8.000000\n",
      "max       1076.000000\n",
      "Name: freq, dtype: float64\n",
      "-------跟团游\n",
      "20.0\n"
     ]
    }
   ],
   "source": [
    "gt = data.loc[data.route_class_parent_name=='跟团游','freq']\n",
    "print(gt.describe())\n",
    "print('-------跟团游')\n",
    "print(gt.quantile(a))"
   ]
  },
  {
   "cell_type": "code",
   "execution_count": 156,
   "metadata": {},
   "outputs": [
    {
     "name": "stdout",
     "output_type": "stream",
     "text": [
      "count    5399.000000\n",
      "mean       13.885534\n",
      "std        26.994652\n",
      "min         1.000000\n",
      "25%         3.000000\n",
      "50%         7.000000\n",
      "75%        15.000000\n",
      "max       867.000000\n",
      "Name: freq, dtype: float64\n",
      "-------自助游\n",
      "47.0\n"
     ]
    }
   ],
   "source": [
    "zz = data.loc[data.route_class_parent_name=='自助游','freq']\n",
    "print(zz.describe())\n",
    "print('-------自助游')\n",
    "print(zz.quantile(a))"
   ]
  },
  {
   "cell_type": "code",
   "execution_count": 157,
   "metadata": {},
   "outputs": [
    {
     "name": "stdout",
     "output_type": "stream",
     "text": [
      "count    4061.000000\n",
      "mean        7.870229\n",
      "std         9.515694\n",
      "min         1.000000\n",
      "25%         2.000000\n",
      "50%         5.000000\n",
      "75%        10.000000\n",
      "max       213.000000\n",
      "Name: freq, dtype: float64\n",
      "-------自驾游\n",
      "24.0\n"
     ]
    }
   ],
   "source": [
    "zj = data.loc[data.route_class_parent_name=='自驾游','freq']\n",
    "print(zj.describe())\n",
    "print('-------自驾游')\n",
    "print(zj.quantile(a))"
   ]
  },
  {
   "cell_type": "code",
   "execution_count": 158,
   "metadata": {},
   "outputs": [
    {
     "name": "stdout",
     "output_type": "stream",
     "text": [
      "count    3367.000000\n",
      "mean        9.703000\n",
      "std        21.891735\n",
      "min         1.000000\n",
      "25%         2.000000\n",
      "50%         6.000000\n",
      "75%        12.000000\n",
      "max      1076.000000\n",
      "Name: freq, dtype: float64\n",
      "-------出境长线\n",
      "31.0\n"
     ]
    }
   ],
   "source": [
    "cc = data.loc[data.product_line_type_name=='出境长线','freq']\n",
    "print(cc.describe())\n",
    "print('-------出境长线')\n",
    "print(cc.quantile(a))"
   ]
  },
  {
   "cell_type": "code",
   "execution_count": 159,
   "metadata": {},
   "outputs": [
    {
     "name": "stdout",
     "output_type": "stream",
     "text": [
      "count    8021.000000\n",
      "mean       10.164069\n",
      "std        19.565110\n",
      "min         1.000000\n",
      "25%         2.000000\n",
      "50%         5.000000\n",
      "75%        11.000000\n",
      "max       867.000000\n",
      "Name: freq, dtype: float64\n",
      "-------出境短线\n",
      "33.0\n"
     ]
    }
   ],
   "source": [
    "cd = data.loc[data.product_line_type_name=='出境短线','freq']\n",
    "print(cd.describe())\n",
    "print('-------出境短线')\n",
    "print(cd.quantile(a))"
   ]
  },
  {
   "cell_type": "code",
   "execution_count": 160,
   "metadata": {},
   "outputs": [
    {
     "name": "stdout",
     "output_type": "stream",
     "text": [
      "count    14863.000000\n",
      "mean         9.449102\n",
      "std         14.292264\n",
      "min          1.000000\n",
      "25%          3.000000\n",
      "50%          6.000000\n",
      "75%         11.000000\n",
      "max        410.000000\n",
      "Name: freq, dtype: float64\n",
      "-------国内长线\n",
      "30.0\n"
     ]
    }
   ],
   "source": [
    "gc = data.loc[data.product_line_type_name=='国内长线','freq']\n",
    "print(gc.describe())\n",
    "print('-------国内长线')\n",
    "print(gc.quantile(a))"
   ]
  },
  {
   "cell_type": "code",
   "execution_count": 161,
   "metadata": {},
   "outputs": [
    {
     "name": "stdout",
     "output_type": "stream",
     "text": [
      "count    29403.000000\n",
      "mean         5.343298\n",
      "std          6.039664\n",
      "min          1.000000\n",
      "25%          2.000000\n",
      "50%          4.000000\n",
      "75%          7.000000\n",
      "max        213.000000\n",
      "Name: freq, dtype: float64\n",
      "-------周边\n",
      "33.0\n"
     ]
    }
   ],
   "source": [
    "zb = data.loc[data.product_line_type_name=='周边','freq']\n",
    "print(zb.describe())\n",
    "print('-------周边')\n",
    "print(cd.quantile(0.95))"
   ]
  },
  {
   "cell_type": "markdown",
   "metadata": {},
   "source": [
    "## 交叉维度"
   ]
  },
  {
   "cell_type": "code",
   "execution_count": 162,
   "metadata": {},
   "outputs": [],
   "source": [
    "routetypes = ['出境长线','出境短线','国内长线','周边']\n",
    "producttypes=['跟团游','自助游','自驾游']"
   ]
  },
  {
   "cell_type": "code",
   "execution_count": 163,
   "metadata": {},
   "outputs": [
    {
     "name": "stdout",
     "output_type": "stream",
     "text": [
      "-------出境长线+跟团游--------\n",
      "count    3042.000000\n",
      "mean        9.498356\n",
      "std        22.479473\n",
      "min         1.000000\n",
      "25%         2.000000\n",
      "50%         5.000000\n",
      "75%        11.000000\n",
      "max      1076.000000\n",
      "Name: freq, dtype: float64\n",
      " \n",
      "0.95分位数： 30.0\n",
      " \n",
      "-------出境长线+自助游--------\n",
      "count    258.000000\n",
      "mean      13.267442\n",
      "std       16.572743\n",
      "min        1.000000\n",
      "25%        3.250000\n",
      "50%        8.000000\n",
      "75%       17.000000\n",
      "max      111.000000\n",
      "Name: freq, dtype: float64\n",
      " \n",
      "0.95分位数： 44.299999999999955\n",
      " \n",
      "-------出境长线+自驾游--------\n",
      "count     2.000000\n",
      "mean     11.000000\n",
      "std       9.899495\n",
      "min       4.000000\n",
      "25%       7.500000\n",
      "50%      11.000000\n",
      "75%      14.500000\n",
      "max      18.000000\n",
      "Name: freq, dtype: float64\n",
      " \n",
      "0.95分位数： 17.299999999999997\n",
      " \n",
      "-------出境短线+跟团游--------\n",
      "count    5577.000000\n",
      "mean        8.274520\n",
      "std        10.272338\n",
      "min         1.000000\n",
      "25%         2.000000\n",
      "50%         5.000000\n",
      "75%        10.000000\n",
      "max       177.000000\n",
      "Name: freq, dtype: float64\n",
      " \n",
      "0.95分位数： 26.0\n",
      " \n",
      "-------出境短线+自助游--------\n",
      "count    1550.000000\n",
      "mean       19.169677\n",
      "std        38.354892\n",
      "min         1.000000\n",
      "25%         4.000000\n",
      "50%         9.000000\n",
      "75%        20.000000\n",
      "max       867.000000\n",
      "Name: freq, dtype: float64\n",
      " \n",
      "0.95分位数： 66.54999999999995\n",
      " \n",
      "-------出境短线+自驾游--------\n",
      "count    0.0\n",
      "mean     NaN\n",
      "std      NaN\n",
      "min      NaN\n",
      "25%      NaN\n",
      "50%      NaN\n",
      "75%      NaN\n",
      "max      NaN\n",
      "Name: freq, dtype: float64\n",
      " \n",
      "0.95分位数： nan\n",
      " \n",
      "-------国内长线+跟团游--------\n",
      "count    12162.000000\n",
      "mean         8.605246\n",
      "std         11.215143\n",
      "min          1.000000\n",
      "25%          2.000000\n",
      "50%          5.000000\n",
      "75%         11.000000\n",
      "max        300.000000\n",
      "Name: freq, dtype: float64\n",
      " \n",
      "0.95分位数： 27.0\n",
      " \n",
      "-------国内长线+自助游--------\n",
      "count    2595.000000\n",
      "mean       13.528709\n",
      "std        23.594792\n",
      "min         1.000000\n",
      "25%         3.000000\n",
      "50%         7.000000\n",
      "75%        15.000000\n",
      "max       410.000000\n",
      "Name: freq, dtype: float64\n",
      " \n",
      "0.95分位数： 43.0\n",
      " \n",
      "-------国内长线+自驾游--------\n",
      "count    0.0\n",
      "mean     NaN\n",
      "std      NaN\n",
      "min      NaN\n",
      "25%      NaN\n",
      "50%      NaN\n",
      "75%      NaN\n",
      "max      NaN\n",
      "Name: freq, dtype: float64\n",
      " \n",
      "0.95分位数： nan\n",
      " \n",
      "-------周边+跟团游--------\n",
      "count    24330.000000\n",
      "mean         4.865310\n",
      "std          5.070985\n",
      "min          1.000000\n",
      "25%          2.000000\n",
      "50%          3.000000\n",
      "75%          6.000000\n",
      "max        102.000000\n",
      "Name: freq, dtype: float64\n",
      " \n",
      "0.95分位数： 14.0\n",
      " \n",
      "-------周边+自助游--------\n",
      "count    996.000000\n",
      "mean       6.752008\n",
      "std        6.781422\n",
      "min        1.000000\n",
      "25%        2.000000\n",
      "50%        5.000000\n",
      "75%        9.000000\n",
      "max       79.000000\n",
      "Name: freq, dtype: float64\n",
      " \n",
      "0.95分位数： 19.0\n",
      " \n",
      "-------周边+自驾游--------\n",
      "count    4059.000000\n",
      "mean        7.868687\n",
      "std         9.516516\n",
      "min         1.000000\n",
      "25%         2.000000\n",
      "50%         5.000000\n",
      "75%        10.000000\n",
      "max       213.000000\n",
      "Name: freq, dtype: float64\n",
      " \n",
      "0.95分位数： 24.0\n",
      " \n"
     ]
    }
   ],
   "source": [
    "for route in routetypes:\n",
    "    for product in producttypes:\n",
    "        sample = data.loc[(data.product_line_type_name==route)&(data.route_class_parent_name==product),'freq']\n",
    "        print(\"-------{0}+{1}--------\".format(route, product))\n",
    "        print(sample.describe())\n",
    "        print(\" \")\n",
    "        print('{0}分位数：'.format(a),sample.quantile(a))\n",
    "        print(\" \")"
   ]
  },
  {
   "cell_type": "code",
   "execution_count": null,
   "metadata": {},
   "outputs": [],
   "source": []
  },
  {
   "cell_type": "code",
   "execution_count": null,
   "metadata": {},
   "outputs": [],
   "source": []
  }
 ],
 "metadata": {
  "kernelspec": {
   "display_name": "Python 3",
   "language": "python",
   "name": "python3"
  },
  "language_info": {
   "codemirror_mode": {
    "name": "ipython",
    "version": 3
   },
   "file_extension": ".py",
   "mimetype": "text/x-python",
   "name": "python",
   "nbconvert_exporter": "python",
   "pygments_lexer": "ipython3",
   "version": "3.6.4"
  }
 },
 "nbformat": 4,
 "nbformat_minor": 2
}
